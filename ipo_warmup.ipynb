{
 "cells": [
  {
   "cell_type": "code",
   "execution_count": 1,
   "metadata": {},
   "outputs": [],
   "source": [
    "%matplotlib inline\n",
    "import matplotlib.pyplot as plt\n",
    "import seaborn as sns\n",
    "import numpy as np\n",
    "import pandas as pd\n",
    "from sklearn.datasets import load_iris\n",
    "from sklearn.model_selection import GridSearchCV\n",
    "from sklearn.neighbors import KNeighborsClassifier\n",
    "from sklearn.linear_model import LogisticRegression\n",
    "from sklearn.model_selection import train_test_split\n",
    "from sklearn.metrics import accuracy_score, classification_report"
   ]
  },
  {
   "cell_type": "code",
   "execution_count": 2,
   "metadata": {},
   "outputs": [],
   "source": [
    "import pandas as pd"
   ]
  },
  {
   "cell_type": "code",
   "execution_count": 3,
   "metadata": {},
   "outputs": [],
   "source": [
    "df = pd.read_csv('ipo_scoop.csv', usecols=[0, 1, 2, 3, 4, 5, 6, 7, 8, 9, 10, 11], skiprows=2, names=['date', 'issuer', 'symbol', 'managers', 'offer_price', 'open_price', 'first_day_close', 'first_day_pctchg', 'dollar_change_open', 'dollar_change_close', 'star_rating', 'performed'])"
   ]
  },
  {
   "cell_type": "code",
   "execution_count": 4,
   "metadata": {},
   "outputs": [
    {
     "name": "stdout",
     "output_type": "stream",
     "text": [
      "<class 'pandas.core.frame.DataFrame'>\n",
      "RangeIndex: 3142 entries, 0 to 3141\n",
      "Data columns (total 12 columns):\n",
      "date                   3123 non-null object\n",
      "issuer                 3123 non-null object\n",
      "symbol                 3123 non-null object\n",
      "managers               3123 non-null object\n",
      "offer_price            3123 non-null object\n",
      "open_price             3123 non-null object\n",
      "first_day_close        3123 non-null object\n",
      "first_day_pctchg       3123 non-null object\n",
      "dollar_change_open     3123 non-null object\n",
      "dollar_change_close    3123 non-null object\n",
      "star_rating            3123 non-null object\n",
      "performed              357 non-null object\n",
      "dtypes: object(12)\n",
      "memory usage: 294.6+ KB\n"
     ]
    }
   ],
   "source": [
    "df.info()"
   ]
  },
  {
   "cell_type": "code",
   "execution_count": 5,
   "metadata": {},
   "outputs": [
    {
     "data": {
      "text/html": [
       "<div>\n",
       "<style scoped>\n",
       "    .dataframe tbody tr th:only-of-type {\n",
       "        vertical-align: middle;\n",
       "    }\n",
       "\n",
       "    .dataframe tbody tr th {\n",
       "        vertical-align: top;\n",
       "    }\n",
       "\n",
       "    .dataframe thead th {\n",
       "        text-align: right;\n",
       "    }\n",
       "</style>\n",
       "<table border=\"1\" class=\"dataframe\">\n",
       "  <thead>\n",
       "    <tr style=\"text-align: right;\">\n",
       "      <th></th>\n",
       "      <th>date</th>\n",
       "      <th>issuer</th>\n",
       "      <th>symbol</th>\n",
       "      <th>managers</th>\n",
       "      <th>offer_price</th>\n",
       "      <th>open_price</th>\n",
       "      <th>first_day_close</th>\n",
       "      <th>first_day_pctchg</th>\n",
       "      <th>dollar_change_open</th>\n",
       "      <th>dollar_change_close</th>\n",
       "      <th>star_rating</th>\n",
       "      <th>performed</th>\n",
       "    </tr>\n",
       "  </thead>\n",
       "  <tbody>\n",
       "    <tr>\n",
       "      <th>0</th>\n",
       "      <td>2/16/18</td>\n",
       "      <td>Farmmi</td>\n",
       "      <td>FAMI</td>\n",
       "      <td>ViewTrade Securities</td>\n",
       "      <td>$4.00</td>\n",
       "      <td>$4.40</td>\n",
       "      <td>$6.18</td>\n",
       "      <td>54.50%</td>\n",
       "      <td>$0.40</td>\n",
       "      <td>$2.18</td>\n",
       "      <td>N/C</td>\n",
       "      <td>NaN</td>\n",
       "    </tr>\n",
       "    <tr>\n",
       "      <th>1</th>\n",
       "      <td>3/16/18</td>\n",
       "      <td>Senmiao Technology</td>\n",
       "      <td>AIHS</td>\n",
       "      <td>ViewTrade Securities</td>\n",
       "      <td>$4.00</td>\n",
       "      <td>$5.51</td>\n",
       "      <td>$5.56</td>\n",
       "      <td>39.00%</td>\n",
       "      <td>$1.51</td>\n",
       "      <td>$1.56</td>\n",
       "      <td>1</td>\n",
       "      <td>Missed</td>\n",
       "    </tr>\n",
       "    <tr>\n",
       "      <th>2</th>\n",
       "      <td>3/20/18</td>\n",
       "      <td>Golden Bull</td>\n",
       "      <td>DNJR</td>\n",
       "      <td>ViewTrade Securities</td>\n",
       "      <td>$4.00</td>\n",
       "      <td>$5.20</td>\n",
       "      <td>$4.62</td>\n",
       "      <td>15.50%</td>\n",
       "      <td>$1.20</td>\n",
       "      <td>$0.62</td>\n",
       "      <td>N/C</td>\n",
       "      <td>NaN</td>\n",
       "    </tr>\n",
       "    <tr>\n",
       "      <th>3</th>\n",
       "      <td>2/14/18</td>\n",
       "      <td>Motus GI Holdings</td>\n",
       "      <td>MOTS</td>\n",
       "      <td>Piper Jaffray/ Oppenheimer</td>\n",
       "      <td>$5.00</td>\n",
       "      <td>$5.00</td>\n",
       "      <td>$4.38</td>\n",
       "      <td>-12.40%</td>\n",
       "      <td>$0.00</td>\n",
       "      <td>-$0.62</td>\n",
       "      <td>1</td>\n",
       "      <td>NaN</td>\n",
       "    </tr>\n",
       "    <tr>\n",
       "      <th>4</th>\n",
       "      <td>2/1/18</td>\n",
       "      <td>One Stop Systems</td>\n",
       "      <td>OSS</td>\n",
       "      <td>Roth Capital Partners</td>\n",
       "      <td>$5.00</td>\n",
       "      <td>$5.55</td>\n",
       "      <td>$4.88</td>\n",
       "      <td>-2.40%</td>\n",
       "      <td>$0.55</td>\n",
       "      <td>-$0.12</td>\n",
       "      <td>1</td>\n",
       "      <td>NaN</td>\n",
       "    </tr>\n",
       "  </tbody>\n",
       "</table>\n",
       "</div>"
      ],
      "text/plain": [
       "      date               issuer symbol                    managers  \\\n",
       "0  2/16/18               Farmmi   FAMI        ViewTrade Securities   \n",
       "1  3/16/18  Senmiao Technology    AIHS        ViewTrade Securities   \n",
       "2  3/20/18          Golden Bull   DNJR        ViewTrade Securities   \n",
       "3  2/14/18   Motus GI Holdings    MOTS  Piper Jaffray/ Oppenheimer   \n",
       "4   2/1/18    One Stop Systems     OSS       Roth Capital Partners   \n",
       "\n",
       "  offer_price open_price first_day_close first_day_pctchg dollar_change_open  \\\n",
       "0       $4.00      $4.40           $6.18           54.50%              $0.40   \n",
       "1       $4.00      $5.51           $5.56           39.00%              $1.51   \n",
       "2       $4.00      $5.20           $4.62           15.50%              $1.20   \n",
       "3       $5.00      $5.00           $4.38          -12.40%              $0.00   \n",
       "4       $5.00      $5.55           $4.88           -2.40%              $0.55   \n",
       "\n",
       "  dollar_change_close star_rating performed  \n",
       "0               $2.18         N/C       NaN  \n",
       "1               $1.56           1    Missed  \n",
       "2               $0.62         N/C       NaN  \n",
       "3              -$0.62           1       NaN  \n",
       "4              -$0.12           1       NaN  "
      ]
     },
     "execution_count": 5,
     "metadata": {},
     "output_type": "execute_result"
    }
   ],
   "source": [
    "df.head()"
   ]
  },
  {
   "cell_type": "code",
   "execution_count": 6,
   "metadata": {},
   "outputs": [],
   "source": [
    "df = df.applymap(lambda x: x if not '$' in str(x) else x.replace('$', ''))"
   ]
  },
  {
   "cell_type": "code",
   "execution_count": 7,
   "metadata": {},
   "outputs": [],
   "source": [
    "df = df.applymap(lambda x: x if not '%' in str(x) else x.replace('%', ''))"
   ]
  },
  {
   "cell_type": "code",
   "execution_count": 8,
   "metadata": {},
   "outputs": [
    {
     "data": {
      "text/html": [
       "<div>\n",
       "<style scoped>\n",
       "    .dataframe tbody tr th:only-of-type {\n",
       "        vertical-align: middle;\n",
       "    }\n",
       "\n",
       "    .dataframe tbody tr th {\n",
       "        vertical-align: top;\n",
       "    }\n",
       "\n",
       "    .dataframe thead th {\n",
       "        text-align: right;\n",
       "    }\n",
       "</style>\n",
       "<table border=\"1\" class=\"dataframe\">\n",
       "  <thead>\n",
       "    <tr style=\"text-align: right;\">\n",
       "      <th></th>\n",
       "      <th>date</th>\n",
       "      <th>issuer</th>\n",
       "      <th>symbol</th>\n",
       "      <th>managers</th>\n",
       "      <th>offer_price</th>\n",
       "      <th>open_price</th>\n",
       "      <th>first_day_close</th>\n",
       "      <th>first_day_pctchg</th>\n",
       "      <th>dollar_change_open</th>\n",
       "      <th>dollar_change_close</th>\n",
       "      <th>star_rating</th>\n",
       "      <th>performed</th>\n",
       "    </tr>\n",
       "  </thead>\n",
       "  <tbody>\n",
       "    <tr>\n",
       "      <th>0</th>\n",
       "      <td>2/16/18</td>\n",
       "      <td>Farmmi</td>\n",
       "      <td>FAMI</td>\n",
       "      <td>ViewTrade Securities</td>\n",
       "      <td>4.00</td>\n",
       "      <td>4.40</td>\n",
       "      <td>6.18</td>\n",
       "      <td>54.50</td>\n",
       "      <td>0.40</td>\n",
       "      <td>2.18</td>\n",
       "      <td>N/C</td>\n",
       "      <td>NaN</td>\n",
       "    </tr>\n",
       "    <tr>\n",
       "      <th>1</th>\n",
       "      <td>3/16/18</td>\n",
       "      <td>Senmiao Technology</td>\n",
       "      <td>AIHS</td>\n",
       "      <td>ViewTrade Securities</td>\n",
       "      <td>4.00</td>\n",
       "      <td>5.51</td>\n",
       "      <td>5.56</td>\n",
       "      <td>39.00</td>\n",
       "      <td>1.51</td>\n",
       "      <td>1.56</td>\n",
       "      <td>1</td>\n",
       "      <td>Missed</td>\n",
       "    </tr>\n",
       "    <tr>\n",
       "      <th>2</th>\n",
       "      <td>3/20/18</td>\n",
       "      <td>Golden Bull</td>\n",
       "      <td>DNJR</td>\n",
       "      <td>ViewTrade Securities</td>\n",
       "      <td>4.00</td>\n",
       "      <td>5.20</td>\n",
       "      <td>4.62</td>\n",
       "      <td>15.50</td>\n",
       "      <td>1.20</td>\n",
       "      <td>0.62</td>\n",
       "      <td>N/C</td>\n",
       "      <td>NaN</td>\n",
       "    </tr>\n",
       "    <tr>\n",
       "      <th>3</th>\n",
       "      <td>2/14/18</td>\n",
       "      <td>Motus GI Holdings</td>\n",
       "      <td>MOTS</td>\n",
       "      <td>Piper Jaffray/ Oppenheimer</td>\n",
       "      <td>5.00</td>\n",
       "      <td>5.00</td>\n",
       "      <td>4.38</td>\n",
       "      <td>-12.40</td>\n",
       "      <td>0.00</td>\n",
       "      <td>-0.62</td>\n",
       "      <td>1</td>\n",
       "      <td>NaN</td>\n",
       "    </tr>\n",
       "    <tr>\n",
       "      <th>4</th>\n",
       "      <td>2/1/18</td>\n",
       "      <td>One Stop Systems</td>\n",
       "      <td>OSS</td>\n",
       "      <td>Roth Capital Partners</td>\n",
       "      <td>5.00</td>\n",
       "      <td>5.55</td>\n",
       "      <td>4.88</td>\n",
       "      <td>-2.40</td>\n",
       "      <td>0.55</td>\n",
       "      <td>-0.12</td>\n",
       "      <td>1</td>\n",
       "      <td>NaN</td>\n",
       "    </tr>\n",
       "  </tbody>\n",
       "</table>\n",
       "</div>"
      ],
      "text/plain": [
       "      date               issuer symbol                    managers  \\\n",
       "0  2/16/18               Farmmi   FAMI        ViewTrade Securities   \n",
       "1  3/16/18  Senmiao Technology    AIHS        ViewTrade Securities   \n",
       "2  3/20/18          Golden Bull   DNJR        ViewTrade Securities   \n",
       "3  2/14/18   Motus GI Holdings    MOTS  Piper Jaffray/ Oppenheimer   \n",
       "4   2/1/18    One Stop Systems     OSS       Roth Capital Partners   \n",
       "\n",
       "  offer_price open_price first_day_close first_day_pctchg dollar_change_open  \\\n",
       "0        4.00       4.40            6.18            54.50               0.40   \n",
       "1        4.00       5.51            5.56            39.00               1.51   \n",
       "2        4.00       5.20            4.62            15.50               1.20   \n",
       "3        5.00       5.00            4.38           -12.40               0.00   \n",
       "4        5.00       5.55            4.88            -2.40               0.55   \n",
       "\n",
       "  dollar_change_close star_rating performed  \n",
       "0                2.18         N/C       NaN  \n",
       "1                1.56           1    Missed  \n",
       "2                0.62         N/C       NaN  \n",
       "3               -0.62           1       NaN  \n",
       "4               -0.12           1       NaN  "
      ]
     },
     "execution_count": 8,
     "metadata": {},
     "output_type": "execute_result"
    }
   ],
   "source": [
    "df.head()"
   ]
  },
  {
   "cell_type": "code",
   "execution_count": 9,
   "metadata": {},
   "outputs": [
    {
     "ename": "OutOfBoundsDatetime",
     "evalue": "Out of bounds nanosecond timestamp: 120-11-01 00:00:00",
     "output_type": "error",
     "traceback": [
      "\u001b[1;31m---------------------------------------------------------------------------\u001b[0m",
      "\u001b[1;31mTypeError\u001b[0m                                 Traceback (most recent call last)",
      "\u001b[1;32m~\\Anaconda3\\lib\\site-packages\\pandas\\core\\tools\\datetimes.py\u001b[0m in \u001b[0;36m_convert_listlike\u001b[1;34m(arg, box, format, name, tz)\u001b[0m\n\u001b[0;32m    376\u001b[0m             \u001b[1;32mtry\u001b[0m\u001b[1;33m:\u001b[0m\u001b[1;33m\u001b[0m\u001b[0m\n\u001b[1;32m--> 377\u001b[1;33m                 \u001b[0mvalues\u001b[0m\u001b[1;33m,\u001b[0m \u001b[0mtz\u001b[0m \u001b[1;33m=\u001b[0m \u001b[0mconversion\u001b[0m\u001b[1;33m.\u001b[0m\u001b[0mdatetime_to_datetime64\u001b[0m\u001b[1;33m(\u001b[0m\u001b[0marg\u001b[0m\u001b[1;33m)\u001b[0m\u001b[1;33m\u001b[0m\u001b[0m\n\u001b[0m\u001b[0;32m    378\u001b[0m                 \u001b[1;32mreturn\u001b[0m \u001b[0mDatetimeIndex\u001b[0m\u001b[1;33m.\u001b[0m\u001b[0m_simple_new\u001b[0m\u001b[1;33m(\u001b[0m\u001b[0mvalues\u001b[0m\u001b[1;33m,\u001b[0m \u001b[0mname\u001b[0m\u001b[1;33m=\u001b[0m\u001b[0mname\u001b[0m\u001b[1;33m,\u001b[0m \u001b[0mtz\u001b[0m\u001b[1;33m=\u001b[0m\u001b[0mtz\u001b[0m\u001b[1;33m)\u001b[0m\u001b[1;33m\u001b[0m\u001b[0m\n",
      "\u001b[1;32mpandas\\_libs\\tslibs\\conversion.pyx\u001b[0m in \u001b[0;36mpandas._libs.tslibs.conversion.datetime_to_datetime64\u001b[1;34m()\u001b[0m\n",
      "\u001b[1;31mTypeError\u001b[0m: Unrecognized value type: <class 'str'>",
      "\nDuring handling of the above exception, another exception occurred:\n",
      "\u001b[1;31mOutOfBoundsDatetime\u001b[0m                       Traceback (most recent call last)",
      "\u001b[1;32m<ipython-input-9-d0698d50b207>\u001b[0m in \u001b[0;36m<module>\u001b[1;34m()\u001b[0m\n\u001b[1;32m----> 1\u001b[1;33m \u001b[0mdf\u001b[0m\u001b[1;33m.\u001b[0m\u001b[0mdate\u001b[0m \u001b[1;33m=\u001b[0m \u001b[0mpd\u001b[0m\u001b[1;33m.\u001b[0m\u001b[0mto_datetime\u001b[0m\u001b[1;33m(\u001b[0m\u001b[0mdf\u001b[0m\u001b[1;33m.\u001b[0m\u001b[0mdate\u001b[0m\u001b[1;33m)\u001b[0m\u001b[1;33m\u001b[0m\u001b[0m\n\u001b[0m",
      "\u001b[1;32m~\\Anaconda3\\lib\\site-packages\\pandas\\core\\tools\\datetimes.py\u001b[0m in \u001b[0;36mto_datetime\u001b[1;34m(arg, errors, dayfirst, yearfirst, utc, box, format, exact, unit, infer_datetime_format, origin, cache)\u001b[0m\n\u001b[0;32m    449\u001b[0m         \u001b[1;32melse\u001b[0m\u001b[1;33m:\u001b[0m\u001b[1;33m\u001b[0m\u001b[0m\n\u001b[0;32m    450\u001b[0m             \u001b[1;32mfrom\u001b[0m \u001b[0mpandas\u001b[0m \u001b[1;32mimport\u001b[0m \u001b[0mSeries\u001b[0m\u001b[1;33m\u001b[0m\u001b[0m\n\u001b[1;32m--> 451\u001b[1;33m             \u001b[0mvalues\u001b[0m \u001b[1;33m=\u001b[0m \u001b[0m_convert_listlike\u001b[0m\u001b[1;33m(\u001b[0m\u001b[0marg\u001b[0m\u001b[1;33m.\u001b[0m\u001b[0m_values\u001b[0m\u001b[1;33m,\u001b[0m \u001b[1;32mTrue\u001b[0m\u001b[1;33m,\u001b[0m \u001b[0mformat\u001b[0m\u001b[1;33m)\u001b[0m\u001b[1;33m\u001b[0m\u001b[0m\n\u001b[0m\u001b[0;32m    452\u001b[0m             \u001b[0mresult\u001b[0m \u001b[1;33m=\u001b[0m \u001b[0mSeries\u001b[0m\u001b[1;33m(\u001b[0m\u001b[0mvalues\u001b[0m\u001b[1;33m,\u001b[0m \u001b[0mindex\u001b[0m\u001b[1;33m=\u001b[0m\u001b[0marg\u001b[0m\u001b[1;33m.\u001b[0m\u001b[0mindex\u001b[0m\u001b[1;33m,\u001b[0m \u001b[0mname\u001b[0m\u001b[1;33m=\u001b[0m\u001b[0marg\u001b[0m\u001b[1;33m.\u001b[0m\u001b[0mname\u001b[0m\u001b[1;33m)\u001b[0m\u001b[1;33m\u001b[0m\u001b[0m\n\u001b[0;32m    453\u001b[0m     \u001b[1;32melif\u001b[0m \u001b[0misinstance\u001b[0m\u001b[1;33m(\u001b[0m\u001b[0marg\u001b[0m\u001b[1;33m,\u001b[0m \u001b[1;33m(\u001b[0m\u001b[0mABCDataFrame\u001b[0m\u001b[1;33m,\u001b[0m \u001b[0mMutableMapping\u001b[0m\u001b[1;33m)\u001b[0m\u001b[1;33m)\u001b[0m\u001b[1;33m:\u001b[0m\u001b[1;33m\u001b[0m\u001b[0m\n",
      "\u001b[1;32m~\\Anaconda3\\lib\\site-packages\\pandas\\core\\tools\\datetimes.py\u001b[0m in \u001b[0;36m_convert_listlike\u001b[1;34m(arg, box, format, name, tz)\u001b[0m\n\u001b[0;32m    378\u001b[0m                 \u001b[1;32mreturn\u001b[0m \u001b[0mDatetimeIndex\u001b[0m\u001b[1;33m.\u001b[0m\u001b[0m_simple_new\u001b[0m\u001b[1;33m(\u001b[0m\u001b[0mvalues\u001b[0m\u001b[1;33m,\u001b[0m \u001b[0mname\u001b[0m\u001b[1;33m=\u001b[0m\u001b[0mname\u001b[0m\u001b[1;33m,\u001b[0m \u001b[0mtz\u001b[0m\u001b[1;33m=\u001b[0m\u001b[0mtz\u001b[0m\u001b[1;33m)\u001b[0m\u001b[1;33m\u001b[0m\u001b[0m\n\u001b[0;32m    379\u001b[0m             \u001b[1;32mexcept\u001b[0m \u001b[1;33m(\u001b[0m\u001b[0mValueError\u001b[0m\u001b[1;33m,\u001b[0m \u001b[0mTypeError\u001b[0m\u001b[1;33m)\u001b[0m\u001b[1;33m:\u001b[0m\u001b[1;33m\u001b[0m\u001b[0m\n\u001b[1;32m--> 380\u001b[1;33m                 \u001b[1;32mraise\u001b[0m \u001b[0me\u001b[0m\u001b[1;33m\u001b[0m\u001b[0m\n\u001b[0m\u001b[0;32m    381\u001b[0m \u001b[1;33m\u001b[0m\u001b[0m\n\u001b[0;32m    382\u001b[0m     \u001b[1;32mif\u001b[0m \u001b[0marg\u001b[0m \u001b[1;32mis\u001b[0m \u001b[1;32mNone\u001b[0m\u001b[1;33m:\u001b[0m\u001b[1;33m\u001b[0m\u001b[0m\n",
      "\u001b[1;32m~\\Anaconda3\\lib\\site-packages\\pandas\\core\\tools\\datetimes.py\u001b[0m in \u001b[0;36m_convert_listlike\u001b[1;34m(arg, box, format, name, tz)\u001b[0m\n\u001b[0;32m    366\u001b[0m                     \u001b[0mdayfirst\u001b[0m\u001b[1;33m=\u001b[0m\u001b[0mdayfirst\u001b[0m\u001b[1;33m,\u001b[0m\u001b[1;33m\u001b[0m\u001b[0m\n\u001b[0;32m    367\u001b[0m                     \u001b[0myearfirst\u001b[0m\u001b[1;33m=\u001b[0m\u001b[0myearfirst\u001b[0m\u001b[1;33m,\u001b[0m\u001b[1;33m\u001b[0m\u001b[0m\n\u001b[1;32m--> 368\u001b[1;33m                     \u001b[0mrequire_iso8601\u001b[0m\u001b[1;33m=\u001b[0m\u001b[0mrequire_iso8601\u001b[0m\u001b[1;33m\u001b[0m\u001b[0m\n\u001b[0m\u001b[0;32m    369\u001b[0m                 )\n\u001b[0;32m    370\u001b[0m \u001b[1;33m\u001b[0m\u001b[0m\n",
      "\u001b[1;32mpandas\\_libs\\tslib.pyx\u001b[0m in \u001b[0;36mpandas._libs.tslib.array_to_datetime\u001b[1;34m()\u001b[0m\n",
      "\u001b[1;32mpandas\\_libs\\tslib.pyx\u001b[0m in \u001b[0;36mpandas._libs.tslib.array_to_datetime\u001b[1;34m()\u001b[0m\n",
      "\u001b[1;32mpandas\\_libs\\tslib.pyx\u001b[0m in \u001b[0;36mpandas._libs.tslib.array_to_datetime\u001b[1;34m()\u001b[0m\n",
      "\u001b[1;32mpandas\\_libs\\tslib.pyx\u001b[0m in \u001b[0;36mpandas._libs.tslib.array_to_datetime\u001b[1;34m()\u001b[0m\n",
      "\u001b[1;32mpandas\\_libs\\tslibs\\conversion.pyx\u001b[0m in \u001b[0;36mpandas._libs.tslibs.conversion.convert_datetime_to_tsobject\u001b[1;34m()\u001b[0m\n",
      "\u001b[1;32mpandas\\_libs\\tslibs\\np_datetime.pyx\u001b[0m in \u001b[0;36mpandas._libs.tslibs.np_datetime.check_dts_bounds\u001b[1;34m()\u001b[0m\n",
      "\u001b[1;31mOutOfBoundsDatetime\u001b[0m: Out of bounds nanosecond timestamp: 120-11-01 00:00:00"
     ]
    }
   ],
   "source": [
    "df.date = pd.to_datetime(df.date)"
   ]
  },
  {
   "cell_type": "code",
   "execution_count": 36,
   "metadata": {},
   "outputs": [
    {
     "ename": "OutOfBoundsDatetime",
     "evalue": "Out of bounds nanosecond timestamp: 120-11-01 00:00:00",
     "output_type": "error",
     "traceback": [
      "\u001b[1;31m---------------------------------------------------------------------------\u001b[0m",
      "\u001b[1;31mOutOfBoundsDatetime\u001b[0m                       Traceback (most recent call last)",
      "\u001b[1;32m<ipython-input-36-e373da3171e7>\u001b[0m in \u001b[0;36m<module>\u001b[1;34m()\u001b[0m\n\u001b[1;32m----> 1\u001b[1;33m \u001b[0mdf\u001b[0m\u001b[1;33m[\u001b[0m\u001b[0mdf\u001b[0m\u001b[1;33m[\u001b[0m\u001b[1;34m'date'\u001b[0m\u001b[1;33m]\u001b[0m \u001b[1;33m==\u001b[0m \u001b[1;34m'11/120'\u001b[0m\u001b[1;33m]\u001b[0m\u001b[1;33m\u001b[0m\u001b[0m\n\u001b[0m",
      "\u001b[1;32m~\\Anaconda3\\lib\\site-packages\\pandas\\core\\ops.py\u001b[0m in \u001b[0;36mwrapper\u001b[1;34m(self, other, axis)\u001b[0m\n\u001b[0;32m   1199\u001b[0m             \u001b[1;31m# Series/Index behavior\u001b[0m\u001b[1;33m\u001b[0m\u001b[1;33m\u001b[0m\u001b[0m\n\u001b[0;32m   1200\u001b[0m             res_values = dispatch_to_index_op(op, self, other,\n\u001b[1;32m-> 1201\u001b[1;33m                                               pd.DatetimeIndex)\n\u001b[0m\u001b[0;32m   1202\u001b[0m             return self._constructor(res_values, index=self.index,\n\u001b[0;32m   1203\u001b[0m                                      name=res_name)\n",
      "\u001b[1;32m~\\Anaconda3\\lib\\site-packages\\pandas\\core\\ops.py\u001b[0m in \u001b[0;36mdispatch_to_index_op\u001b[1;34m(op, left, right, index_class)\u001b[0m\n\u001b[0;32m   1096\u001b[0m         \u001b[0mleft_idx\u001b[0m \u001b[1;33m=\u001b[0m \u001b[0mleft_idx\u001b[0m\u001b[1;33m.\u001b[0m\u001b[0m_shallow_copy\u001b[0m\u001b[1;33m(\u001b[0m\u001b[0mfreq\u001b[0m\u001b[1;33m=\u001b[0m\u001b[1;32mNone\u001b[0m\u001b[1;33m)\u001b[0m\u001b[1;33m\u001b[0m\u001b[0m\n\u001b[0;32m   1097\u001b[0m     \u001b[1;32mtry\u001b[0m\u001b[1;33m:\u001b[0m\u001b[1;33m\u001b[0m\u001b[0m\n\u001b[1;32m-> 1098\u001b[1;33m         \u001b[0mresult\u001b[0m \u001b[1;33m=\u001b[0m \u001b[0mop\u001b[0m\u001b[1;33m(\u001b[0m\u001b[0mleft_idx\u001b[0m\u001b[1;33m,\u001b[0m \u001b[0mright\u001b[0m\u001b[1;33m)\u001b[0m\u001b[1;33m\u001b[0m\u001b[0m\n\u001b[0m\u001b[0;32m   1099\u001b[0m     \u001b[1;32mexcept\u001b[0m \u001b[0mNullFrequencyError\u001b[0m\u001b[1;33m:\u001b[0m\u001b[1;33m\u001b[0m\u001b[0m\n\u001b[0;32m   1100\u001b[0m         \u001b[1;31m# DatetimeIndex and TimedeltaIndex with freq == None raise ValueError\u001b[0m\u001b[1;33m\u001b[0m\u001b[1;33m\u001b[0m\u001b[0m\n",
      "\u001b[1;32m~\\Anaconda3\\lib\\site-packages\\pandas\\core\\indexes\\datetimes.py\u001b[0m in \u001b[0;36mwrapper\u001b[1;34m(self, other)\u001b[0m\n\u001b[0;32m    115\u001b[0m                 \u001b[0mself\u001b[0m\u001b[1;33m.\u001b[0m\u001b[0m_assert_tzawareness_compat\u001b[0m\u001b[1;33m(\u001b[0m\u001b[0mother\u001b[0m\u001b[1;33m)\u001b[0m\u001b[1;33m\u001b[0m\u001b[0m\n\u001b[0;32m    116\u001b[0m \u001b[1;33m\u001b[0m\u001b[0m\n\u001b[1;32m--> 117\u001b[1;33m             \u001b[0mother\u001b[0m \u001b[1;33m=\u001b[0m \u001b[0m_to_m8\u001b[0m\u001b[1;33m(\u001b[0m\u001b[0mother\u001b[0m\u001b[1;33m,\u001b[0m \u001b[0mtz\u001b[0m\u001b[1;33m=\u001b[0m\u001b[0mself\u001b[0m\u001b[1;33m.\u001b[0m\u001b[0mtz\u001b[0m\u001b[1;33m)\u001b[0m\u001b[1;33m\u001b[0m\u001b[0m\n\u001b[0m\u001b[0;32m    118\u001b[0m             \u001b[0mresult\u001b[0m \u001b[1;33m=\u001b[0m \u001b[0mfunc\u001b[0m\u001b[1;33m(\u001b[0m\u001b[0mother\u001b[0m\u001b[1;33m)\u001b[0m\u001b[1;33m\u001b[0m\u001b[0m\n\u001b[0;32m    119\u001b[0m             \u001b[1;32mif\u001b[0m \u001b[0misna\u001b[0m\u001b[1;33m(\u001b[0m\u001b[0mother\u001b[0m\u001b[1;33m)\u001b[0m\u001b[1;33m:\u001b[0m\u001b[1;33m\u001b[0m\u001b[0m\n",
      "\u001b[1;32m~\\Anaconda3\\lib\\site-packages\\pandas\\core\\indexes\\datetimes.py\u001b[0m in \u001b[0;36m_to_m8\u001b[1;34m(key, tz)\u001b[0m\n\u001b[0;32m   2874\u001b[0m     \u001b[1;32mif\u001b[0m \u001b[1;32mnot\u001b[0m \u001b[0misinstance\u001b[0m\u001b[1;33m(\u001b[0m\u001b[0mkey\u001b[0m\u001b[1;33m,\u001b[0m \u001b[0mTimestamp\u001b[0m\u001b[1;33m)\u001b[0m\u001b[1;33m:\u001b[0m\u001b[1;33m\u001b[0m\u001b[0m\n\u001b[0;32m   2875\u001b[0m         \u001b[1;31m# this also converts strings\u001b[0m\u001b[1;33m\u001b[0m\u001b[1;33m\u001b[0m\u001b[0m\n\u001b[1;32m-> 2876\u001b[1;33m         \u001b[0mkey\u001b[0m \u001b[1;33m=\u001b[0m \u001b[0mTimestamp\u001b[0m\u001b[1;33m(\u001b[0m\u001b[0mkey\u001b[0m\u001b[1;33m,\u001b[0m \u001b[0mtz\u001b[0m\u001b[1;33m=\u001b[0m\u001b[0mtz\u001b[0m\u001b[1;33m)\u001b[0m\u001b[1;33m\u001b[0m\u001b[0m\n\u001b[0m\u001b[0;32m   2877\u001b[0m \u001b[1;33m\u001b[0m\u001b[0m\n\u001b[0;32m   2878\u001b[0m     \u001b[1;32mreturn\u001b[0m \u001b[0mnp\u001b[0m\u001b[1;33m.\u001b[0m\u001b[0mint64\u001b[0m\u001b[1;33m(\u001b[0m\u001b[0mconversion\u001b[0m\u001b[1;33m.\u001b[0m\u001b[0mpydt_to_i8\u001b[0m\u001b[1;33m(\u001b[0m\u001b[0mkey\u001b[0m\u001b[1;33m)\u001b[0m\u001b[1;33m)\u001b[0m\u001b[1;33m.\u001b[0m\u001b[0mview\u001b[0m\u001b[1;33m(\u001b[0m\u001b[0m_NS_DTYPE\u001b[0m\u001b[1;33m)\u001b[0m\u001b[1;33m\u001b[0m\u001b[0m\n",
      "\u001b[1;32mpandas\\_libs\\tslibs\\timestamps.pyx\u001b[0m in \u001b[0;36mpandas._libs.tslibs.timestamps.Timestamp.__new__\u001b[1;34m()\u001b[0m\n",
      "\u001b[1;32mpandas\\_libs\\tslibs\\conversion.pyx\u001b[0m in \u001b[0;36mpandas._libs.tslibs.conversion.convert_to_tsobject\u001b[1;34m()\u001b[0m\n",
      "\u001b[1;32mpandas\\_libs\\tslibs\\conversion.pyx\u001b[0m in \u001b[0;36mpandas._libs.tslibs.conversion.convert_str_to_tsobject\u001b[1;34m()\u001b[0m\n",
      "\u001b[1;32mpandas\\_libs\\tslibs\\conversion.pyx\u001b[0m in \u001b[0;36mpandas._libs.tslibs.conversion.convert_to_tsobject\u001b[1;34m()\u001b[0m\n",
      "\u001b[1;32mpandas\\_libs\\tslibs\\conversion.pyx\u001b[0m in \u001b[0;36mpandas._libs.tslibs.conversion.convert_datetime_to_tsobject\u001b[1;34m()\u001b[0m\n",
      "\u001b[1;32mpandas\\_libs\\tslibs\\np_datetime.pyx\u001b[0m in \u001b[0;36mpandas._libs.tslibs.np_datetime.check_dts_bounds\u001b[1;34m()\u001b[0m\n",
      "\u001b[1;31mOutOfBoundsDatetime\u001b[0m: Out of bounds nanosecond timestamp: 120-11-01 00:00:00"
     ]
    }
   ],
   "source": [
    "df[df['date'] == '11/120']"
   ]
  },
  {
   "cell_type": "code",
   "execution_count": 37,
   "metadata": {},
   "outputs": [],
   "source": [
    "df.loc[1258, 'date'] = '2012-11-20'"
   ]
  },
  {
   "cell_type": "code",
   "execution_count": 38,
   "metadata": {},
   "outputs": [],
   "source": [
    "df['date'] = pd.to_datetime(df['date'])"
   ]
  },
  {
   "cell_type": "code",
   "execution_count": 39,
   "metadata": {},
   "outputs": [
    {
     "name": "stdout",
     "output_type": "stream",
     "text": [
      "<class 'pandas.core.frame.DataFrame'>\n",
      "RangeIndex: 3142 entries, 0 to 3141\n",
      "Data columns (total 14 columns):\n",
      "date                   3123 non-null datetime64[ns]\n",
      "issuer                 3123 non-null object\n",
      "symbol                 3123 non-null object\n",
      "managers               3123 non-null object\n",
      "offer_price            3123 non-null float64\n",
      "open_price             3123 non-null float64\n",
      "first_day_close        3123 non-null float64\n",
      "first_day_pctchg       3123 non-null float64\n",
      "dollar_change_open     3123 non-null float64\n",
      "dollar_change_close    3123 non-null float64\n",
      "star_rating            3123 non-null float64\n",
      "performed              357 non-null object\n",
      "dollar_chg_opencls     3123 non-null float64\n",
      "pct_chg_opencls        3123 non-null float64\n",
      "dtypes: datetime64[ns](1), float64(9), object(4)\n",
      "memory usage: 343.7+ KB\n"
     ]
    }
   ],
   "source": [
    "df.info()"
   ]
  },
  {
   "cell_type": "code",
   "execution_count": 40,
   "metadata": {},
   "outputs": [],
   "source": [
    "df['offer_price'] = df['offer_price'].astype('float')"
   ]
  },
  {
   "cell_type": "code",
   "execution_count": 41,
   "metadata": {},
   "outputs": [],
   "source": [
    "df['open_price'] = df['open_price'].astype('float')\n",
    "df['first_day_close'] = df['first_day_close'].astype('float')"
   ]
  },
  {
   "cell_type": "code",
   "execution_count": 42,
   "metadata": {},
   "outputs": [
    {
     "data": {
      "text/plain": [
       "Index(['date', 'issuer', 'symbol', 'managers', 'offer_price', 'open_price',\n",
       "       'first_day_close', 'first_day_pctchg', 'dollar_change_open',\n",
       "       'dollar_change_close', 'star_rating', 'performed', 'dollar_chg_opencls',\n",
       "       'pct_chg_opencls'],\n",
       "      dtype='object')"
      ]
     },
     "execution_count": 42,
     "metadata": {},
     "output_type": "execute_result"
    }
   ],
   "source": [
    "df.columns"
   ]
  },
  {
   "cell_type": "code",
   "execution_count": 43,
   "metadata": {},
   "outputs": [],
   "source": [
    "df.replace('N/C', 0, inplace=True)"
   ]
  },
  {
   "cell_type": "code",
   "execution_count": 44,
   "metadata": {},
   "outputs": [],
   "source": [
    "for col in df.columns[4:11]:\n",
    "    df[col] = df[col].astype('float')"
   ]
  },
  {
   "cell_type": "code",
   "execution_count": 45,
   "metadata": {},
   "outputs": [
    {
     "name": "stdout",
     "output_type": "stream",
     "text": [
      "<class 'pandas.core.frame.DataFrame'>\n",
      "RangeIndex: 3142 entries, 0 to 3141\n",
      "Data columns (total 14 columns):\n",
      "date                   3123 non-null datetime64[ns]\n",
      "issuer                 3123 non-null object\n",
      "symbol                 3123 non-null object\n",
      "managers               3123 non-null object\n",
      "offer_price            3123 non-null float64\n",
      "open_price             3123 non-null float64\n",
      "first_day_close        3123 non-null float64\n",
      "first_day_pctchg       3123 non-null float64\n",
      "dollar_change_open     3123 non-null float64\n",
      "dollar_change_close    3123 non-null float64\n",
      "star_rating            3123 non-null float64\n",
      "performed              357 non-null object\n",
      "dollar_chg_opencls     3123 non-null float64\n",
      "pct_chg_opencls        3123 non-null float64\n",
      "dtypes: datetime64[ns](1), float64(9), object(4)\n",
      "memory usage: 343.7+ KB\n"
     ]
    }
   ],
   "source": [
    "df.info()"
   ]
  },
  {
   "cell_type": "markdown",
   "metadata": {},
   "source": [
    "### Opening Day Change"
   ]
  },
  {
   "cell_type": "code",
   "execution_count": 46,
   "metadata": {},
   "outputs": [
    {
     "data": {
      "text/plain": [
       "date\n",
       "2000.0    35.562278\n",
       "2001.0    12.761489\n",
       "2002.0     7.247043\n",
       "2003.0    11.945000\n",
       "2004.0    10.703276\n",
       "2005.0     9.910752\n",
       "2006.0     9.988270\n",
       "2007.0    11.521406\n",
       "2008.0     2.318085\n",
       "2009.0     7.175738\n",
       "2010.0     8.654875\n",
       "2011.0     9.044406\n",
       "2012.0    11.981918\n",
       "2013.0    16.352652\n",
       "2014.0    12.363160\n",
       "2015.0    13.947341\n",
       "2016.0    10.979623\n",
       "2017.0    10.537348\n",
       "2018.0    14.417569\n",
       "Name: first_day_pctchg, dtype: float64"
      ]
     },
     "execution_count": 46,
     "metadata": {},
     "output_type": "execute_result"
    }
   ],
   "source": [
    "df.groupby(df.date.dt.year)['first_day_pctchg'].mean()"
   ]
  },
  {
   "cell_type": "code",
   "execution_count": 47,
   "metadata": {},
   "outputs": [],
   "source": [
    "mean_year_first = df.groupby(df.date.dt.year)['first_day_pctchg'].mean()"
   ]
  },
  {
   "cell_type": "code",
   "execution_count": 48,
   "metadata": {},
   "outputs": [
    {
     "data": {
      "text/plain": [
       "<matplotlib.axes._subplots.AxesSubplot at 0x22c391889b0>"
      ]
     },
     "execution_count": 48,
     "metadata": {},
     "output_type": "execute_result"
    },
    {
     "data": {
      "image/png": "[encoded data removed]",
      "text/plain": [
       "<Figure size 648x360 with 1 Axes>"
      ]
     },
     "metadata": {},
     "output_type": "display_data"
    }
   ],
   "source": [
    "%matplotlib inline\n",
    "mean_year_first.plot(kind = 'bar', color = 'lightblue', figsize = (9, 5), title = 'IPO Performance First Day %Change')"
   ]
  },
  {
   "cell_type": "code",
   "execution_count": 49,
   "metadata": {},
   "outputs": [
    {
     "data": {
      "text/plain": [
       "<matplotlib.axes._subplots.AxesSubplot at 0x22c390df7f0>"
      ]
     },
     "execution_count": 49,
     "metadata": {},
     "output_type": "execute_result"
    },
    {
     "data": {
      "image/png": "[encoded data removed]",
      "text/plain": [
       "<Figure size 576x360 with 1 Axes>"
      ]
     },
     "metadata": {},
     "output_type": "display_data"
    }
   ],
   "source": [
    "df.first_day_pctchg.hist(bins = 100, figsize = (8, 5))"
   ]
  },
  {
   "cell_type": "code",
   "execution_count": 50,
   "metadata": {},
   "outputs": [],
   "source": [
    "df['dollar_chg_opencls'] = df['dollar_change_close'] - df['dollar_change_open']"
   ]
  },
  {
   "cell_type": "code",
   "execution_count": 51,
   "metadata": {},
   "outputs": [],
   "source": [
    "df['pct_chg_opencls'] = (df['dollar_chg_opencls']/df['open_price']) * 100"
   ]
  },
  {
   "cell_type": "code",
   "execution_count": 52,
   "metadata": {},
   "outputs": [
    {
     "data": {
      "text/html": [
       "<div>\n",
       "<style scoped>\n",
       "    .dataframe tbody tr th:only-of-type {\n",
       "        vertical-align: middle;\n",
       "    }\n",
       "\n",
       "    .dataframe tbody tr th {\n",
       "        vertical-align: top;\n",
       "    }\n",
       "\n",
       "    .dataframe thead th {\n",
       "        text-align: right;\n",
       "    }\n",
       "</style>\n",
       "<table border=\"1\" class=\"dataframe\">\n",
       "  <thead>\n",
       "    <tr style=\"text-align: right;\">\n",
       "      <th></th>\n",
       "      <th>date</th>\n",
       "      <th>issuer</th>\n",
       "      <th>symbol</th>\n",
       "      <th>managers</th>\n",
       "      <th>offer_price</th>\n",
       "      <th>open_price</th>\n",
       "      <th>first_day_close</th>\n",
       "      <th>first_day_pctchg</th>\n",
       "      <th>dollar_change_open</th>\n",
       "      <th>dollar_change_close</th>\n",
       "      <th>star_rating</th>\n",
       "      <th>performed</th>\n",
       "      <th>dollar_chg_opencls</th>\n",
       "      <th>pct_chg_opencls</th>\n",
       "    </tr>\n",
       "  </thead>\n",
       "  <tbody>\n",
       "    <tr>\n",
       "      <th>0</th>\n",
       "      <td>2018-02-16</td>\n",
       "      <td>Farmmi</td>\n",
       "      <td>FAMI</td>\n",
       "      <td>ViewTrade Securities</td>\n",
       "      <td>4.0</td>\n",
       "      <td>4.40</td>\n",
       "      <td>6.18</td>\n",
       "      <td>54.5</td>\n",
       "      <td>0.40</td>\n",
       "      <td>2.18</td>\n",
       "      <td>0.0</td>\n",
       "      <td>NaN</td>\n",
       "      <td>1.78</td>\n",
       "      <td>40.454545</td>\n",
       "    </tr>\n",
       "    <tr>\n",
       "      <th>1</th>\n",
       "      <td>2018-03-16</td>\n",
       "      <td>Senmiao Technology</td>\n",
       "      <td>AIHS</td>\n",
       "      <td>ViewTrade Securities</td>\n",
       "      <td>4.0</td>\n",
       "      <td>5.51</td>\n",
       "      <td>5.56</td>\n",
       "      <td>39.0</td>\n",
       "      <td>1.51</td>\n",
       "      <td>1.56</td>\n",
       "      <td>1.0</td>\n",
       "      <td>Missed</td>\n",
       "      <td>0.05</td>\n",
       "      <td>0.907441</td>\n",
       "    </tr>\n",
       "    <tr>\n",
       "      <th>2</th>\n",
       "      <td>2018-03-20</td>\n",
       "      <td>Golden Bull</td>\n",
       "      <td>DNJR</td>\n",
       "      <td>ViewTrade Securities</td>\n",
       "      <td>4.0</td>\n",
       "      <td>5.20</td>\n",
       "      <td>4.62</td>\n",
       "      <td>15.5</td>\n",
       "      <td>1.20</td>\n",
       "      <td>0.62</td>\n",
       "      <td>0.0</td>\n",
       "      <td>NaN</td>\n",
       "      <td>-0.58</td>\n",
       "      <td>-11.153846</td>\n",
       "    </tr>\n",
       "    <tr>\n",
       "      <th>3</th>\n",
       "      <td>2018-02-14</td>\n",
       "      <td>Motus GI Holdings</td>\n",
       "      <td>MOTS</td>\n",
       "      <td>Piper Jaffray/ Oppenheimer</td>\n",
       "      <td>5.0</td>\n",
       "      <td>5.00</td>\n",
       "      <td>4.38</td>\n",
       "      <td>-12.4</td>\n",
       "      <td>0.00</td>\n",
       "      <td>-0.62</td>\n",
       "      <td>1.0</td>\n",
       "      <td>NaN</td>\n",
       "      <td>-0.62</td>\n",
       "      <td>-12.400000</td>\n",
       "    </tr>\n",
       "    <tr>\n",
       "      <th>4</th>\n",
       "      <td>2018-02-01</td>\n",
       "      <td>One Stop Systems</td>\n",
       "      <td>OSS</td>\n",
       "      <td>Roth Capital Partners</td>\n",
       "      <td>5.0</td>\n",
       "      <td>5.55</td>\n",
       "      <td>4.88</td>\n",
       "      <td>-2.4</td>\n",
       "      <td>0.55</td>\n",
       "      <td>-0.12</td>\n",
       "      <td>1.0</td>\n",
       "      <td>NaN</td>\n",
       "      <td>-0.67</td>\n",
       "      <td>-12.072072</td>\n",
       "    </tr>\n",
       "  </tbody>\n",
       "</table>\n",
       "</div>"
      ],
      "text/plain": [
       "        date               issuer symbol                    managers  \\\n",
       "0 2018-02-16               Farmmi   FAMI        ViewTrade Securities   \n",
       "1 2018-03-16  Senmiao Technology    AIHS        ViewTrade Securities   \n",
       "2 2018-03-20          Golden Bull   DNJR        ViewTrade Securities   \n",
       "3 2018-02-14   Motus GI Holdings    MOTS  Piper Jaffray/ Oppenheimer   \n",
       "4 2018-02-01    One Stop Systems     OSS       Roth Capital Partners   \n",
       "\n",
       "   offer_price  open_price  first_day_close  first_day_pctchg  \\\n",
       "0          4.0        4.40             6.18              54.5   \n",
       "1          4.0        5.51             5.56              39.0   \n",
       "2          4.0        5.20             4.62              15.5   \n",
       "3          5.0        5.00             4.38             -12.4   \n",
       "4          5.0        5.55             4.88              -2.4   \n",
       "\n",
       "   dollar_change_open  dollar_change_close  star_rating performed  \\\n",
       "0                0.40                 2.18          0.0       NaN   \n",
       "1                1.51                 1.56          1.0    Missed   \n",
       "2                1.20                 0.62          0.0       NaN   \n",
       "3                0.00                -0.62          1.0       NaN   \n",
       "4                0.55                -0.12          1.0       NaN   \n",
       "\n",
       "   dollar_chg_opencls  pct_chg_opencls  \n",
       "0                1.78        40.454545  \n",
       "1                0.05         0.907441  \n",
       "2               -0.58       -11.153846  \n",
       "3               -0.62       -12.400000  \n",
       "4               -0.67       -12.072072  "
      ]
     },
     "execution_count": 52,
     "metadata": {},
     "output_type": "execute_result"
    }
   ],
   "source": [
    "df.head()"
   ]
  },
  {
   "cell_type": "code",
   "execution_count": 53,
   "metadata": {},
   "outputs": [
    {
     "data": {
      "text/plain": [
       "count    3123.000000\n",
       "mean        1.379582\n",
       "std        10.885217\n",
       "min       -49.281222\n",
       "25%        -2.860242\n",
       "50%         0.000000\n",
       "75%         4.000000\n",
       "max       159.417476\n",
       "Name: pct_chg_opencls, dtype: float64"
      ]
     },
     "execution_count": 53,
     "metadata": {},
     "output_type": "execute_result"
    }
   ],
   "source": [
    "df.pct_chg_opencls.describe()"
   ]
  },
  {
   "cell_type": "code",
   "execution_count": 54,
   "metadata": {},
   "outputs": [
    {
     "data": {
      "text/html": [
       "<div>\n",
       "<style scoped>\n",
       "    .dataframe tbody tr th:only-of-type {\n",
       "        vertical-align: middle;\n",
       "    }\n",
       "\n",
       "    .dataframe tbody tr th {\n",
       "        vertical-align: top;\n",
       "    }\n",
       "\n",
       "    .dataframe thead th {\n",
       "        text-align: right;\n",
       "    }\n",
       "</style>\n",
       "<table border=\"1\" class=\"dataframe\">\n",
       "  <thead>\n",
       "    <tr style=\"text-align: right;\">\n",
       "      <th></th>\n",
       "      <th>date</th>\n",
       "      <th>issuer</th>\n",
       "      <th>symbol</th>\n",
       "      <th>managers</th>\n",
       "      <th>offer_price</th>\n",
       "      <th>open_price</th>\n",
       "      <th>first_day_close</th>\n",
       "      <th>first_day_pctchg</th>\n",
       "      <th>dollar_change_open</th>\n",
       "      <th>dollar_change_close</th>\n",
       "      <th>star_rating</th>\n",
       "      <th>performed</th>\n",
       "      <th>dollar_chg_opencls</th>\n",
       "      <th>pct_chg_opencls</th>\n",
       "    </tr>\n",
       "  </thead>\n",
       "  <tbody>\n",
       "  </tbody>\n",
       "</table>\n",
       "</div>"
      ],
      "text/plain": [
       "Empty DataFrame\n",
       "Columns: [date, issuer, symbol, managers, offer_price, open_price, first_day_close, first_day_pctchg, dollar_change_open, dollar_change_close, star_rating, performed, dollar_chg_opencls, pct_chg_opencls]\n",
       "Index: []"
      ]
     },
     "execution_count": 54,
     "metadata": {},
     "output_type": "execute_result"
    }
   ],
   "source": [
    "df[df.pct_chg_opencls < -98]"
   ]
  },
  {
   "cell_type": "code",
   "execution_count": 55,
   "metadata": {},
   "outputs": [],
   "source": [
    "df.loc[2218, 'dollar_change_open'] = 0.09"
   ]
  },
  {
   "cell_type": "code",
   "execution_count": 56,
   "metadata": {},
   "outputs": [
    {
     "data": {
      "text/plain": [
       "date                      2005-04-18 00:00:00\n",
       "issuer                 Terra Nova Acquisition\n",
       "symbol                                  TNVAU\n",
       "managers                    EarlyBird Capital\n",
       "offer_price                                 6\n",
       "open_price                               6.09\n",
       "first_day_close                          6.22\n",
       "first_day_pctchg                         3.67\n",
       "dollar_change_open                       0.09\n",
       "dollar_change_close                      0.22\n",
       "star_rating                                 1\n",
       "performed                                 NaN\n",
       "dollar_chg_opencls                       0.13\n",
       "pct_chg_opencls                       2.13465\n",
       "Name: 2218, dtype: object"
      ]
     },
     "execution_count": 56,
     "metadata": {},
     "output_type": "execute_result"
    }
   ],
   "source": [
    "df.iloc[2218]"
   ]
  },
  {
   "cell_type": "code",
   "execution_count": 57,
   "metadata": {},
   "outputs": [
    {
     "data": {
      "text/plain": [
       "<matplotlib.axes._subplots.AxesSubplot at 0x22c391c7828>"
      ]
     },
     "execution_count": 57,
     "metadata": {},
     "output_type": "execute_result"
    },
    {
     "data": {
      "image/png": "[encoded data removed]",
      "text/plain": [
       "<Figure size 432x288 with 1 Axes>"
      ]
     },
     "metadata": {},
     "output_type": "display_data"
    }
   ],
   "source": [
    "df.pct_chg_opencls.hist(bins= 100)"
   ]
  },
  {
   "cell_type": "code",
   "execution_count": 58,
   "metadata": {},
   "outputs": [
    {
     "data": {
      "text/plain": [
       "count    144.000000\n",
       "mean       0.355833\n",
       "std        2.476673\n",
       "min       -6.260000\n",
       "25%       -0.652500\n",
       "50%        0.000000\n",
       "75%        0.567500\n",
       "max       14.750000\n",
       "Name: dollar_chg_opencls, dtype: float64"
      ]
     },
     "execution_count": 58,
     "metadata": {},
     "output_type": "execute_result"
    }
   ],
   "source": [
    "df[df.date >= '2018']['dollar_chg_opencls'].describe()"
   ]
  },
  {
   "cell_type": "code",
   "execution_count": 59,
   "metadata": {},
   "outputs": [
    {
     "data": {
      "text/plain": [
       "51.24000000000001"
      ]
     },
     "execution_count": 59,
     "metadata": {},
     "output_type": "execute_result"
    }
   ],
   "source": [
    "df[df.date >= '2018']['dollar_chg_opencls'].sum()"
   ]
  },
  {
   "cell_type": "markdown",
   "metadata": {},
   "source": [
    "### Feature Engineering\n",
    "\n"
   ]
  },
  {
   "cell_type": "code",
   "execution_count": 60,
   "metadata": {},
   "outputs": [],
   "source": [
    "sp = pd.read_csv('SPY.csv')"
   ]
  },
  {
   "cell_type": "code",
   "execution_count": 61,
   "metadata": {},
   "outputs": [
    {
     "data": {
      "text/html": [
       "<div>\n",
       "<style scoped>\n",
       "    .dataframe tbody tr th:only-of-type {\n",
       "        vertical-align: middle;\n",
       "    }\n",
       "\n",
       "    .dataframe tbody tr th {\n",
       "        vertical-align: top;\n",
       "    }\n",
       "\n",
       "    .dataframe thead th {\n",
       "        text-align: right;\n",
       "    }\n",
       "</style>\n",
       "<table border=\"1\" class=\"dataframe\">\n",
       "  <thead>\n",
       "    <tr style=\"text-align: right;\">\n",
       "      <th></th>\n",
       "      <th>Date</th>\n",
       "      <th>Open</th>\n",
       "      <th>High</th>\n",
       "      <th>Low</th>\n",
       "      <th>Close</th>\n",
       "      <th>Adj Close</th>\n",
       "      <th>Volume</th>\n",
       "    </tr>\n",
       "  </thead>\n",
       "  <tbody>\n",
       "    <tr>\n",
       "      <th>0</th>\n",
       "      <td>2018-07-16</td>\n",
       "      <td>279.640015</td>\n",
       "      <td>279.799988</td>\n",
       "      <td>278.839996</td>\n",
       "      <td>279.339996</td>\n",
       "      <td>279.339996</td>\n",
       "      <td>48201000</td>\n",
       "    </tr>\n",
       "    <tr>\n",
       "      <th>1</th>\n",
       "      <td>2018-07-17</td>\n",
       "      <td>278.470001</td>\n",
       "      <td>280.910004</td>\n",
       "      <td>278.410004</td>\n",
       "      <td>280.470001</td>\n",
       "      <td>280.470001</td>\n",
       "      <td>52315500</td>\n",
       "    </tr>\n",
       "    <tr>\n",
       "      <th>2</th>\n",
       "      <td>2018-07-18</td>\n",
       "      <td>280.559998</td>\n",
       "      <td>281.179993</td>\n",
       "      <td>280.059998</td>\n",
       "      <td>281.059998</td>\n",
       "      <td>281.059998</td>\n",
       "      <td>44593500</td>\n",
       "    </tr>\n",
       "    <tr>\n",
       "      <th>3</th>\n",
       "      <td>2018-07-19</td>\n",
       "      <td>280.309998</td>\n",
       "      <td>280.739990</td>\n",
       "      <td>279.459991</td>\n",
       "      <td>280.000000</td>\n",
       "      <td>280.000000</td>\n",
       "      <td>61412100</td>\n",
       "    </tr>\n",
       "    <tr>\n",
       "      <th>4</th>\n",
       "      <td>2018-07-20</td>\n",
       "      <td>279.769989</td>\n",
       "      <td>280.480011</td>\n",
       "      <td>279.500000</td>\n",
       "      <td>279.679993</td>\n",
       "      <td>279.679993</td>\n",
       "      <td>82337700</td>\n",
       "    </tr>\n",
       "  </tbody>\n",
       "</table>\n",
       "</div>"
      ],
      "text/plain": [
       "         Date        Open        High         Low       Close   Adj Close  \\\n",
       "0  2018-07-16  279.640015  279.799988  278.839996  279.339996  279.339996   \n",
       "1  2018-07-17  278.470001  280.910004  278.410004  280.470001  280.470001   \n",
       "2  2018-07-18  280.559998  281.179993  280.059998  281.059998  281.059998   \n",
       "3  2018-07-19  280.309998  280.739990  279.459991  280.000000  280.000000   \n",
       "4  2018-07-20  279.769989  280.480011  279.500000  279.679993  279.679993   \n",
       "\n",
       "     Volume  \n",
       "0  48201000  \n",
       "1  52315500  \n",
       "2  44593500  \n",
       "3  61412100  \n",
       "4  82337700  "
      ]
     },
     "execution_count": 61,
     "metadata": {},
     "output_type": "execute_result"
    }
   ],
   "source": [
    "sp.head()"
   ]
  },
  {
   "cell_type": "code",
   "execution_count": 62,
   "metadata": {},
   "outputs": [],
   "source": [
    "sp.sort_values('Date', inplace = True)\n",
    "sp.reset_index(drop= True, inplace = True)"
   ]
  },
  {
   "cell_type": "code",
   "execution_count": 63,
   "metadata": {},
   "outputs": [
    {
     "data": {
      "text/html": [
       "<div>\n",
       "<style scoped>\n",
       "    .dataframe tbody tr th:only-of-type {\n",
       "        vertical-align: middle;\n",
       "    }\n",
       "\n",
       "    .dataframe tbody tr th {\n",
       "        vertical-align: top;\n",
       "    }\n",
       "\n",
       "    .dataframe thead th {\n",
       "        text-align: right;\n",
       "    }\n",
       "</style>\n",
       "<table border=\"1\" class=\"dataframe\">\n",
       "  <thead>\n",
       "    <tr style=\"text-align: right;\">\n",
       "      <th></th>\n",
       "      <th>Date</th>\n",
       "      <th>Open</th>\n",
       "      <th>High</th>\n",
       "      <th>Low</th>\n",
       "      <th>Close</th>\n",
       "      <th>Adj Close</th>\n",
       "      <th>Volume</th>\n",
       "    </tr>\n",
       "  </thead>\n",
       "  <tbody>\n",
       "    <tr>\n",
       "      <th>0</th>\n",
       "      <td>2018-07-16</td>\n",
       "      <td>279.640015</td>\n",
       "      <td>279.799988</td>\n",
       "      <td>278.839996</td>\n",
       "      <td>279.339996</td>\n",
       "      <td>279.339996</td>\n",
       "      <td>48201000</td>\n",
       "    </tr>\n",
       "    <tr>\n",
       "      <th>1</th>\n",
       "      <td>2018-07-17</td>\n",
       "      <td>278.470001</td>\n",
       "      <td>280.910004</td>\n",
       "      <td>278.410004</td>\n",
       "      <td>280.470001</td>\n",
       "      <td>280.470001</td>\n",
       "      <td>52315500</td>\n",
       "    </tr>\n",
       "    <tr>\n",
       "      <th>2</th>\n",
       "      <td>2018-07-18</td>\n",
       "      <td>280.559998</td>\n",
       "      <td>281.179993</td>\n",
       "      <td>280.059998</td>\n",
       "      <td>281.059998</td>\n",
       "      <td>281.059998</td>\n",
       "      <td>44593500</td>\n",
       "    </tr>\n",
       "    <tr>\n",
       "      <th>3</th>\n",
       "      <td>2018-07-19</td>\n",
       "      <td>280.309998</td>\n",
       "      <td>280.739990</td>\n",
       "      <td>279.459991</td>\n",
       "      <td>280.000000</td>\n",
       "      <td>280.000000</td>\n",
       "      <td>61412100</td>\n",
       "    </tr>\n",
       "    <tr>\n",
       "      <th>4</th>\n",
       "      <td>2018-07-20</td>\n",
       "      <td>279.769989</td>\n",
       "      <td>280.480011</td>\n",
       "      <td>279.500000</td>\n",
       "      <td>279.679993</td>\n",
       "      <td>279.679993</td>\n",
       "      <td>82337700</td>\n",
       "    </tr>\n",
       "    <tr>\n",
       "      <th>5</th>\n",
       "      <td>2018-07-23</td>\n",
       "      <td>279.450012</td>\n",
       "      <td>280.429993</td>\n",
       "      <td>279.059998</td>\n",
       "      <td>280.200012</td>\n",
       "      <td>280.200012</td>\n",
       "      <td>47047600</td>\n",
       "    </tr>\n",
       "    <tr>\n",
       "      <th>6</th>\n",
       "      <td>2018-07-24</td>\n",
       "      <td>281.790009</td>\n",
       "      <td>282.559998</td>\n",
       "      <td>280.630005</td>\n",
       "      <td>281.609985</td>\n",
       "      <td>281.609985</td>\n",
       "      <td>68026900</td>\n",
       "    </tr>\n",
       "    <tr>\n",
       "      <th>7</th>\n",
       "      <td>2018-07-25</td>\n",
       "      <td>281.329987</td>\n",
       "      <td>284.369995</td>\n",
       "      <td>281.279999</td>\n",
       "      <td>284.010010</td>\n",
       "      <td>284.010010</td>\n",
       "      <td>78882900</td>\n",
       "    </tr>\n",
       "    <tr>\n",
       "      <th>8</th>\n",
       "      <td>2018-07-26</td>\n",
       "      <td>283.200012</td>\n",
       "      <td>284.109985</td>\n",
       "      <td>283.089996</td>\n",
       "      <td>283.339996</td>\n",
       "      <td>283.339996</td>\n",
       "      <td>57919500</td>\n",
       "    </tr>\n",
       "    <tr>\n",
       "      <th>9</th>\n",
       "      <td>2018-07-27</td>\n",
       "      <td>283.709991</td>\n",
       "      <td>283.820007</td>\n",
       "      <td>280.380005</td>\n",
       "      <td>281.420013</td>\n",
       "      <td>281.420013</td>\n",
       "      <td>76768700</td>\n",
       "    </tr>\n",
       "    <tr>\n",
       "      <th>10</th>\n",
       "      <td>2018-07-30</td>\n",
       "      <td>281.510010</td>\n",
       "      <td>281.690002</td>\n",
       "      <td>279.359985</td>\n",
       "      <td>279.950012</td>\n",
       "      <td>279.950012</td>\n",
       "      <td>63742500</td>\n",
       "    </tr>\n",
       "    <tr>\n",
       "      <th>11</th>\n",
       "      <td>2018-07-31</td>\n",
       "      <td>280.809998</td>\n",
       "      <td>282.019989</td>\n",
       "      <td>280.380005</td>\n",
       "      <td>281.329987</td>\n",
       "      <td>281.329987</td>\n",
       "      <td>68570500</td>\n",
       "    </tr>\n",
       "    <tr>\n",
       "      <th>12</th>\n",
       "      <td>2018-08-01</td>\n",
       "      <td>281.559998</td>\n",
       "      <td>282.130005</td>\n",
       "      <td>280.130005</td>\n",
       "      <td>280.859985</td>\n",
       "      <td>280.859985</td>\n",
       "      <td>53853300</td>\n",
       "    </tr>\n",
       "    <tr>\n",
       "      <th>13</th>\n",
       "      <td>2018-08-02</td>\n",
       "      <td>279.390015</td>\n",
       "      <td>282.579987</td>\n",
       "      <td>279.160004</td>\n",
       "      <td>282.390015</td>\n",
       "      <td>282.390015</td>\n",
       "      <td>63426400</td>\n",
       "    </tr>\n",
       "    <tr>\n",
       "      <th>14</th>\n",
       "      <td>2018-08-03</td>\n",
       "      <td>282.529999</td>\n",
       "      <td>283.660004</td>\n",
       "      <td>282.329987</td>\n",
       "      <td>283.600006</td>\n",
       "      <td>283.600006</td>\n",
       "      <td>53935400</td>\n",
       "    </tr>\n",
       "    <tr>\n",
       "      <th>15</th>\n",
       "      <td>2018-08-06</td>\n",
       "      <td>283.640015</td>\n",
       "      <td>284.989990</td>\n",
       "      <td>283.200012</td>\n",
       "      <td>284.640015</td>\n",
       "      <td>284.640015</td>\n",
       "      <td>39400900</td>\n",
       "    </tr>\n",
       "    <tr>\n",
       "      <th>16</th>\n",
       "      <td>2018-08-07</td>\n",
       "      <td>285.390015</td>\n",
       "      <td>286.010010</td>\n",
       "      <td>285.239990</td>\n",
       "      <td>285.579987</td>\n",
       "      <td>285.579987</td>\n",
       "      <td>43196600</td>\n",
       "    </tr>\n",
       "    <tr>\n",
       "      <th>17</th>\n",
       "      <td>2018-08-08</td>\n",
       "      <td>285.390015</td>\n",
       "      <td>285.910004</td>\n",
       "      <td>284.940002</td>\n",
       "      <td>285.459991</td>\n",
       "      <td>285.459991</td>\n",
       "      <td>42114600</td>\n",
       "    </tr>\n",
       "    <tr>\n",
       "      <th>18</th>\n",
       "      <td>2018-08-09</td>\n",
       "      <td>285.529999</td>\n",
       "      <td>285.970001</td>\n",
       "      <td>284.920013</td>\n",
       "      <td>285.070007</td>\n",
       "      <td>285.070007</td>\n",
       "      <td>35652400</td>\n",
       "    </tr>\n",
       "    <tr>\n",
       "      <th>19</th>\n",
       "      <td>2018-08-10</td>\n",
       "      <td>283.450012</td>\n",
       "      <td>284.059998</td>\n",
       "      <td>282.359985</td>\n",
       "      <td>283.160004</td>\n",
       "      <td>283.160004</td>\n",
       "      <td>77076000</td>\n",
       "    </tr>\n",
       "    <tr>\n",
       "      <th>20</th>\n",
       "      <td>2018-08-13</td>\n",
       "      <td>283.470001</td>\n",
       "      <td>284.160004</td>\n",
       "      <td>281.769989</td>\n",
       "      <td>282.100006</td>\n",
       "      <td>282.100006</td>\n",
       "      <td>65686900</td>\n",
       "    </tr>\n",
       "    <tr>\n",
       "      <th>21</th>\n",
       "      <td>2018-08-14</td>\n",
       "      <td>282.920013</td>\n",
       "      <td>284.170013</td>\n",
       "      <td>282.480011</td>\n",
       "      <td>283.899994</td>\n",
       "      <td>283.899994</td>\n",
       "      <td>43842000</td>\n",
       "    </tr>\n",
       "    <tr>\n",
       "      <th>22</th>\n",
       "      <td>2018-08-15</td>\n",
       "      <td>282.380005</td>\n",
       "      <td>282.540009</td>\n",
       "      <td>280.160004</td>\n",
       "      <td>281.779999</td>\n",
       "      <td>281.779999</td>\n",
       "      <td>102827200</td>\n",
       "    </tr>\n",
       "    <tr>\n",
       "      <th>23</th>\n",
       "      <td>2018-08-16</td>\n",
       "      <td>283.399994</td>\n",
       "      <td>285.040009</td>\n",
       "      <td>283.369995</td>\n",
       "      <td>284.739990</td>\n",
       "      <td>284.739990</td>\n",
       "      <td>33789111</td>\n",
       "    </tr>\n",
       "  </tbody>\n",
       "</table>\n",
       "</div>"
      ],
      "text/plain": [
       "          Date        Open        High         Low       Close   Adj Close  \\\n",
       "0   2018-07-16  279.640015  279.799988  278.839996  279.339996  279.339996   \n",
       "1   2018-07-17  278.470001  280.910004  278.410004  280.470001  280.470001   \n",
       "2   2018-07-18  280.559998  281.179993  280.059998  281.059998  281.059998   \n",
       "3   2018-07-19  280.309998  280.739990  279.459991  280.000000  280.000000   \n",
       "4   2018-07-20  279.769989  280.480011  279.500000  279.679993  279.679993   \n",
       "5   2018-07-23  279.450012  280.429993  279.059998  280.200012  280.200012   \n",
       "6   2018-07-24  281.790009  282.559998  280.630005  281.609985  281.609985   \n",
       "7   2018-07-25  281.329987  284.369995  281.279999  284.010010  284.010010   \n",
       "8   2018-07-26  283.200012  284.109985  283.089996  283.339996  283.339996   \n",
       "9   2018-07-27  283.709991  283.820007  280.380005  281.420013  281.420013   \n",
       "10  2018-07-30  281.510010  281.690002  279.359985  279.950012  279.950012   \n",
       "11  2018-07-31  280.809998  282.019989  280.380005  281.329987  281.329987   \n",
       "12  2018-08-01  281.559998  282.130005  280.130005  280.859985  280.859985   \n",
       "13  2018-08-02  279.390015  282.579987  279.160004  282.390015  282.390015   \n",
       "14  2018-08-03  282.529999  283.660004  282.329987  283.600006  283.600006   \n",
       "15  2018-08-06  283.640015  284.989990  283.200012  284.640015  284.640015   \n",
       "16  2018-08-07  285.390015  286.010010  285.239990  285.579987  285.579987   \n",
       "17  2018-08-08  285.390015  285.910004  284.940002  285.459991  285.459991   \n",
       "18  2018-08-09  285.529999  285.970001  284.920013  285.070007  285.070007   \n",
       "19  2018-08-10  283.450012  284.059998  282.359985  283.160004  283.160004   \n",
       "20  2018-08-13  283.470001  284.160004  281.769989  282.100006  282.100006   \n",
       "21  2018-08-14  282.920013  284.170013  282.480011  283.899994  283.899994   \n",
       "22  2018-08-15  282.380005  282.540009  280.160004  281.779999  281.779999   \n",
       "23  2018-08-16  283.399994  285.040009  283.369995  284.739990  284.739990   \n",
       "\n",
       "       Volume  \n",
       "0    48201000  \n",
       "1    52315500  \n",
       "2    44593500  \n",
       "3    61412100  \n",
       "4    82337700  \n",
       "5    47047600  \n",
       "6    68026900  \n",
       "7    78882900  \n",
       "8    57919500  \n",
       "9    76768700  \n",
       "10   63742500  \n",
       "11   68570500  \n",
       "12   53853300  \n",
       "13   63426400  \n",
       "14   53935400  \n",
       "15   39400900  \n",
       "16   43196600  \n",
       "17   42114600  \n",
       "18   35652400  \n",
       "19   77076000  \n",
       "20   65686900  \n",
       "21   43842000  \n",
       "22  102827200  \n",
       "23   33789111  "
      ]
     },
     "execution_count": 63,
     "metadata": {},
     "output_type": "execute_result"
    }
   ],
   "source": [
    "sp"
   ]
  },
  {
   "cell_type": "code",
   "execution_count": 64,
   "metadata": {},
   "outputs": [],
   "source": [
    "sp['day_ago'] = sp.Date.shift(periods=1)\n",
    "sp['week_ago'] = sp.Date.shift(periods = 7)"
   ]
  },
  {
   "cell_type": "code",
   "execution_count": 65,
   "metadata": {},
   "outputs": [
    {
     "data": {
      "text/html": [
       "<div>\n",
       "<style scoped>\n",
       "    .dataframe tbody tr th:only-of-type {\n",
       "        vertical-align: middle;\n",
       "    }\n",
       "\n",
       "    .dataframe tbody tr th {\n",
       "        vertical-align: top;\n",
       "    }\n",
       "\n",
       "    .dataframe thead th {\n",
       "        text-align: right;\n",
       "    }\n",
       "</style>\n",
       "<table border=\"1\" class=\"dataframe\">\n",
       "  <thead>\n",
       "    <tr style=\"text-align: right;\">\n",
       "      <th></th>\n",
       "      <th>Date</th>\n",
       "      <th>Open</th>\n",
       "      <th>High</th>\n",
       "      <th>Low</th>\n",
       "      <th>Close</th>\n",
       "      <th>Adj Close</th>\n",
       "      <th>Volume</th>\n",
       "      <th>day_ago</th>\n",
       "      <th>week_ago</th>\n",
       "    </tr>\n",
       "  </thead>\n",
       "  <tbody>\n",
       "    <tr>\n",
       "      <th>0</th>\n",
       "      <td>2018-07-16</td>\n",
       "      <td>279.640015</td>\n",
       "      <td>279.799988</td>\n",
       "      <td>278.839996</td>\n",
       "      <td>279.339996</td>\n",
       "      <td>279.339996</td>\n",
       "      <td>48201000</td>\n",
       "      <td>NaN</td>\n",
       "      <td>NaN</td>\n",
       "    </tr>\n",
       "    <tr>\n",
       "      <th>1</th>\n",
       "      <td>2018-07-17</td>\n",
       "      <td>278.470001</td>\n",
       "      <td>280.910004</td>\n",
       "      <td>278.410004</td>\n",
       "      <td>280.470001</td>\n",
       "      <td>280.470001</td>\n",
       "      <td>52315500</td>\n",
       "      <td>2018-07-16</td>\n",
       "      <td>NaN</td>\n",
       "    </tr>\n",
       "    <tr>\n",
       "      <th>2</th>\n",
       "      <td>2018-07-18</td>\n",
       "      <td>280.559998</td>\n",
       "      <td>281.179993</td>\n",
       "      <td>280.059998</td>\n",
       "      <td>281.059998</td>\n",
       "      <td>281.059998</td>\n",
       "      <td>44593500</td>\n",
       "      <td>2018-07-17</td>\n",
       "      <td>NaN</td>\n",
       "    </tr>\n",
       "    <tr>\n",
       "      <th>3</th>\n",
       "      <td>2018-07-19</td>\n",
       "      <td>280.309998</td>\n",
       "      <td>280.739990</td>\n",
       "      <td>279.459991</td>\n",
       "      <td>280.000000</td>\n",
       "      <td>280.000000</td>\n",
       "      <td>61412100</td>\n",
       "      <td>2018-07-18</td>\n",
       "      <td>NaN</td>\n",
       "    </tr>\n",
       "    <tr>\n",
       "      <th>4</th>\n",
       "      <td>2018-07-20</td>\n",
       "      <td>279.769989</td>\n",
       "      <td>280.480011</td>\n",
       "      <td>279.500000</td>\n",
       "      <td>279.679993</td>\n",
       "      <td>279.679993</td>\n",
       "      <td>82337700</td>\n",
       "      <td>2018-07-19</td>\n",
       "      <td>NaN</td>\n",
       "    </tr>\n",
       "  </tbody>\n",
       "</table>\n",
       "</div>"
      ],
      "text/plain": [
       "         Date        Open        High         Low       Close   Adj Close  \\\n",
       "0  2018-07-16  279.640015  279.799988  278.839996  279.339996  279.339996   \n",
       "1  2018-07-17  278.470001  280.910004  278.410004  280.470001  280.470001   \n",
       "2  2018-07-18  280.559998  281.179993  280.059998  281.059998  281.059998   \n",
       "3  2018-07-19  280.309998  280.739990  279.459991  280.000000  280.000000   \n",
       "4  2018-07-20  279.769989  280.480011  279.500000  279.679993  279.679993   \n",
       "\n",
       "     Volume     day_ago week_ago  \n",
       "0  48201000         NaN      NaN  \n",
       "1  52315500  2018-07-16      NaN  \n",
       "2  44593500  2018-07-17      NaN  \n",
       "3  61412100  2018-07-18      NaN  \n",
       "4  82337700  2018-07-19      NaN  "
      ]
     },
     "execution_count": 65,
     "metadata": {},
     "output_type": "execute_result"
    }
   ],
   "source": [
    "sp.head()"
   ]
  },
  {
   "cell_type": "code",
   "execution_count": 66,
   "metadata": {},
   "outputs": [],
   "source": [
    "sp['day_ago_close'] = sp.Close.shift(periods = 1)"
   ]
  },
  {
   "cell_type": "code",
   "execution_count": 67,
   "metadata": {},
   "outputs": [],
   "source": [
    "sp['week_ago_close'] = sp.Close.shift(periods = 7)"
   ]
  },
  {
   "cell_type": "code",
   "execution_count": 68,
   "metadata": {},
   "outputs": [
    {
     "data": {
      "text/html": [
       "<div>\n",
       "<style scoped>\n",
       "    .dataframe tbody tr th:only-of-type {\n",
       "        vertical-align: middle;\n",
       "    }\n",
       "\n",
       "    .dataframe tbody tr th {\n",
       "        vertical-align: top;\n",
       "    }\n",
       "\n",
       "    .dataframe thead th {\n",
       "        text-align: right;\n",
       "    }\n",
       "</style>\n",
       "<table border=\"1\" class=\"dataframe\">\n",
       "  <thead>\n",
       "    <tr style=\"text-align: right;\">\n",
       "      <th></th>\n",
       "      <th>Date</th>\n",
       "      <th>Open</th>\n",
       "      <th>High</th>\n",
       "      <th>Low</th>\n",
       "      <th>Close</th>\n",
       "      <th>Adj Close</th>\n",
       "      <th>Volume</th>\n",
       "      <th>day_ago</th>\n",
       "      <th>week_ago</th>\n",
       "      <th>day_ago_close</th>\n",
       "      <th>week_ago_close</th>\n",
       "    </tr>\n",
       "  </thead>\n",
       "  <tbody>\n",
       "    <tr>\n",
       "      <th>0</th>\n",
       "      <td>2018-07-16</td>\n",
       "      <td>279.640015</td>\n",
       "      <td>279.799988</td>\n",
       "      <td>278.839996</td>\n",
       "      <td>279.339996</td>\n",
       "      <td>279.339996</td>\n",
       "      <td>48201000</td>\n",
       "      <td>NaN</td>\n",
       "      <td>NaN</td>\n",
       "      <td>NaN</td>\n",
       "      <td>NaN</td>\n",
       "    </tr>\n",
       "    <tr>\n",
       "      <th>1</th>\n",
       "      <td>2018-07-17</td>\n",
       "      <td>278.470001</td>\n",
       "      <td>280.910004</td>\n",
       "      <td>278.410004</td>\n",
       "      <td>280.470001</td>\n",
       "      <td>280.470001</td>\n",
       "      <td>52315500</td>\n",
       "      <td>2018-07-16</td>\n",
       "      <td>NaN</td>\n",
       "      <td>279.339996</td>\n",
       "      <td>NaN</td>\n",
       "    </tr>\n",
       "    <tr>\n",
       "      <th>2</th>\n",
       "      <td>2018-07-18</td>\n",
       "      <td>280.559998</td>\n",
       "      <td>281.179993</td>\n",
       "      <td>280.059998</td>\n",
       "      <td>281.059998</td>\n",
       "      <td>281.059998</td>\n",
       "      <td>44593500</td>\n",
       "      <td>2018-07-17</td>\n",
       "      <td>NaN</td>\n",
       "      <td>280.470001</td>\n",
       "      <td>NaN</td>\n",
       "    </tr>\n",
       "    <tr>\n",
       "      <th>3</th>\n",
       "      <td>2018-07-19</td>\n",
       "      <td>280.309998</td>\n",
       "      <td>280.739990</td>\n",
       "      <td>279.459991</td>\n",
       "      <td>280.000000</td>\n",
       "      <td>280.000000</td>\n",
       "      <td>61412100</td>\n",
       "      <td>2018-07-18</td>\n",
       "      <td>NaN</td>\n",
       "      <td>281.059998</td>\n",
       "      <td>NaN</td>\n",
       "    </tr>\n",
       "    <tr>\n",
       "      <th>4</th>\n",
       "      <td>2018-07-20</td>\n",
       "      <td>279.769989</td>\n",
       "      <td>280.480011</td>\n",
       "      <td>279.500000</td>\n",
       "      <td>279.679993</td>\n",
       "      <td>279.679993</td>\n",
       "      <td>82337700</td>\n",
       "      <td>2018-07-19</td>\n",
       "      <td>NaN</td>\n",
       "      <td>280.000000</td>\n",
       "      <td>NaN</td>\n",
       "    </tr>\n",
       "  </tbody>\n",
       "</table>\n",
       "</div>"
      ],
      "text/plain": [
       "         Date        Open        High         Low       Close   Adj Close  \\\n",
       "0  2018-07-16  279.640015  279.799988  278.839996  279.339996  279.339996   \n",
       "1  2018-07-17  278.470001  280.910004  278.410004  280.470001  280.470001   \n",
       "2  2018-07-18  280.559998  281.179993  280.059998  281.059998  281.059998   \n",
       "3  2018-07-19  280.309998  280.739990  279.459991  280.000000  280.000000   \n",
       "4  2018-07-20  279.769989  280.480011  279.500000  279.679993  279.679993   \n",
       "\n",
       "     Volume     day_ago week_ago  day_ago_close  week_ago_close  \n",
       "0  48201000         NaN      NaN            NaN             NaN  \n",
       "1  52315500  2018-07-16      NaN     279.339996             NaN  \n",
       "2  44593500  2018-07-17      NaN     280.470001             NaN  \n",
       "3  61412100  2018-07-18      NaN     281.059998             NaN  \n",
       "4  82337700  2018-07-19      NaN     280.000000             NaN  "
      ]
     },
     "execution_count": 68,
     "metadata": {},
     "output_type": "execute_result"
    }
   ],
   "source": [
    "sp.head()"
   ]
  },
  {
   "cell_type": "code",
   "execution_count": 69,
   "metadata": {},
   "outputs": [
    {
     "name": "stdout",
     "output_type": "stream",
     "text": [
      "<class 'pandas.core.frame.DataFrame'>\n",
      "RangeIndex: 24 entries, 0 to 23\n",
      "Data columns (total 11 columns):\n",
      "Date              24 non-null object\n",
      "Open              24 non-null float64\n",
      "High              24 non-null float64\n",
      "Low               24 non-null float64\n",
      "Close             24 non-null float64\n",
      "Adj Close         24 non-null float64\n",
      "Volume            24 non-null int64\n",
      "day_ago           23 non-null object\n",
      "week_ago          17 non-null object\n",
      "day_ago_close     23 non-null float64\n",
      "week_ago_close    17 non-null float64\n",
      "dtypes: float64(7), int64(1), object(3)\n",
      "memory usage: 2.1+ KB\n"
     ]
    }
   ],
   "source": [
    "sp.info()"
   ]
  },
  {
   "cell_type": "code",
   "execution_count": 70,
   "metadata": {},
   "outputs": [],
   "source": [
    "sp['chg'] = ((sp.day_ago_close - sp.week_ago_close)/sp.week_ago_close) * 100"
   ]
  },
  {
   "cell_type": "code",
   "execution_count": 71,
   "metadata": {},
   "outputs": [
    {
     "data": {
      "text/plain": [
       "count    17.000000\n",
       "mean      0.436672\n",
       "std       0.882171\n",
       "min      -1.330621\n",
       "25%      -0.259985\n",
       "50%       0.403274\n",
       "75%       1.144198\n",
       "max       2.011064\n",
       "Name: chg, dtype: float64"
      ]
     },
     "execution_count": 71,
     "metadata": {},
     "output_type": "execute_result"
    }
   ],
   "source": [
    "sp.chg.describe()"
   ]
  },
  {
   "cell_type": "code",
   "execution_count": 72,
   "metadata": {},
   "outputs": [
    {
     "data": {
      "text/html": [
       "<div>\n",
       "<style scoped>\n",
       "    .dataframe tbody tr th:only-of-type {\n",
       "        vertical-align: middle;\n",
       "    }\n",
       "\n",
       "    .dataframe tbody tr th {\n",
       "        vertical-align: top;\n",
       "    }\n",
       "\n",
       "    .dataframe thead th {\n",
       "        text-align: right;\n",
       "    }\n",
       "</style>\n",
       "<table border=\"1\" class=\"dataframe\">\n",
       "  <thead>\n",
       "    <tr style=\"text-align: right;\">\n",
       "      <th></th>\n",
       "      <th>Date</th>\n",
       "      <th>Open</th>\n",
       "      <th>High</th>\n",
       "      <th>Low</th>\n",
       "      <th>Close</th>\n",
       "      <th>Adj Close</th>\n",
       "      <th>Volume</th>\n",
       "      <th>day_ago</th>\n",
       "      <th>week_ago</th>\n",
       "      <th>day_ago_close</th>\n",
       "      <th>week_ago_close</th>\n",
       "      <th>chg</th>\n",
       "    </tr>\n",
       "  </thead>\n",
       "  <tbody>\n",
       "    <tr>\n",
       "      <th>0</th>\n",
       "      <td>2018-07-16</td>\n",
       "      <td>279.640015</td>\n",
       "      <td>279.799988</td>\n",
       "      <td>278.839996</td>\n",
       "      <td>279.339996</td>\n",
       "      <td>279.339996</td>\n",
       "      <td>48201000</td>\n",
       "      <td>NaN</td>\n",
       "      <td>NaN</td>\n",
       "      <td>NaN</td>\n",
       "      <td>NaN</td>\n",
       "      <td>NaN</td>\n",
       "    </tr>\n",
       "    <tr>\n",
       "      <th>1</th>\n",
       "      <td>2018-07-17</td>\n",
       "      <td>278.470001</td>\n",
       "      <td>280.910004</td>\n",
       "      <td>278.410004</td>\n",
       "      <td>280.470001</td>\n",
       "      <td>280.470001</td>\n",
       "      <td>52315500</td>\n",
       "      <td>2018-07-16</td>\n",
       "      <td>NaN</td>\n",
       "      <td>279.339996</td>\n",
       "      <td>NaN</td>\n",
       "      <td>NaN</td>\n",
       "    </tr>\n",
       "    <tr>\n",
       "      <th>2</th>\n",
       "      <td>2018-07-18</td>\n",
       "      <td>280.559998</td>\n",
       "      <td>281.179993</td>\n",
       "      <td>280.059998</td>\n",
       "      <td>281.059998</td>\n",
       "      <td>281.059998</td>\n",
       "      <td>44593500</td>\n",
       "      <td>2018-07-17</td>\n",
       "      <td>NaN</td>\n",
       "      <td>280.470001</td>\n",
       "      <td>NaN</td>\n",
       "      <td>NaN</td>\n",
       "    </tr>\n",
       "    <tr>\n",
       "      <th>3</th>\n",
       "      <td>2018-07-19</td>\n",
       "      <td>280.309998</td>\n",
       "      <td>280.739990</td>\n",
       "      <td>279.459991</td>\n",
       "      <td>280.000000</td>\n",
       "      <td>280.000000</td>\n",
       "      <td>61412100</td>\n",
       "      <td>2018-07-18</td>\n",
       "      <td>NaN</td>\n",
       "      <td>281.059998</td>\n",
       "      <td>NaN</td>\n",
       "      <td>NaN</td>\n",
       "    </tr>\n",
       "    <tr>\n",
       "      <th>4</th>\n",
       "      <td>2018-07-20</td>\n",
       "      <td>279.769989</td>\n",
       "      <td>280.480011</td>\n",
       "      <td>279.500000</td>\n",
       "      <td>279.679993</td>\n",
       "      <td>279.679993</td>\n",
       "      <td>82337700</td>\n",
       "      <td>2018-07-19</td>\n",
       "      <td>NaN</td>\n",
       "      <td>280.000000</td>\n",
       "      <td>NaN</td>\n",
       "      <td>NaN</td>\n",
       "    </tr>\n",
       "    <tr>\n",
       "      <th>5</th>\n",
       "      <td>2018-07-23</td>\n",
       "      <td>279.450012</td>\n",
       "      <td>280.429993</td>\n",
       "      <td>279.059998</td>\n",
       "      <td>280.200012</td>\n",
       "      <td>280.200012</td>\n",
       "      <td>47047600</td>\n",
       "      <td>2018-07-20</td>\n",
       "      <td>NaN</td>\n",
       "      <td>279.679993</td>\n",
       "      <td>NaN</td>\n",
       "      <td>NaN</td>\n",
       "    </tr>\n",
       "    <tr>\n",
       "      <th>6</th>\n",
       "      <td>2018-07-24</td>\n",
       "      <td>281.790009</td>\n",
       "      <td>282.559998</td>\n",
       "      <td>280.630005</td>\n",
       "      <td>281.609985</td>\n",
       "      <td>281.609985</td>\n",
       "      <td>68026900</td>\n",
       "      <td>2018-07-23</td>\n",
       "      <td>NaN</td>\n",
       "      <td>280.200012</td>\n",
       "      <td>NaN</td>\n",
       "      <td>NaN</td>\n",
       "    </tr>\n",
       "    <tr>\n",
       "      <th>7</th>\n",
       "      <td>2018-07-25</td>\n",
       "      <td>281.329987</td>\n",
       "      <td>284.369995</td>\n",
       "      <td>281.279999</td>\n",
       "      <td>284.010010</td>\n",
       "      <td>284.010010</td>\n",
       "      <td>78882900</td>\n",
       "      <td>2018-07-24</td>\n",
       "      <td>2018-07-16</td>\n",
       "      <td>281.609985</td>\n",
       "      <td>279.339996</td>\n",
       "      <td>0.812626</td>\n",
       "    </tr>\n",
       "    <tr>\n",
       "      <th>8</th>\n",
       "      <td>2018-07-26</td>\n",
       "      <td>283.200012</td>\n",
       "      <td>284.109985</td>\n",
       "      <td>283.089996</td>\n",
       "      <td>283.339996</td>\n",
       "      <td>283.339996</td>\n",
       "      <td>57919500</td>\n",
       "      <td>2018-07-25</td>\n",
       "      <td>2018-07-17</td>\n",
       "      <td>284.010010</td>\n",
       "      <td>280.470001</td>\n",
       "      <td>1.262170</td>\n",
       "    </tr>\n",
       "    <tr>\n",
       "      <th>9</th>\n",
       "      <td>2018-07-27</td>\n",
       "      <td>283.709991</td>\n",
       "      <td>283.820007</td>\n",
       "      <td>280.380005</td>\n",
       "      <td>281.420013</td>\n",
       "      <td>281.420013</td>\n",
       "      <td>76768700</td>\n",
       "      <td>2018-07-26</td>\n",
       "      <td>2018-07-18</td>\n",
       "      <td>283.339996</td>\n",
       "      <td>281.059998</td>\n",
       "      <td>0.811214</td>\n",
       "    </tr>\n",
       "  </tbody>\n",
       "</table>\n",
       "</div>"
      ],
      "text/plain": [
       "         Date        Open        High         Low       Close   Adj Close  \\\n",
       "0  2018-07-16  279.640015  279.799988  278.839996  279.339996  279.339996   \n",
       "1  2018-07-17  278.470001  280.910004  278.410004  280.470001  280.470001   \n",
       "2  2018-07-18  280.559998  281.179993  280.059998  281.059998  281.059998   \n",
       "3  2018-07-19  280.309998  280.739990  279.459991  280.000000  280.000000   \n",
       "4  2018-07-20  279.769989  280.480011  279.500000  279.679993  279.679993   \n",
       "5  2018-07-23  279.450012  280.429993  279.059998  280.200012  280.200012   \n",
       "6  2018-07-24  281.790009  282.559998  280.630005  281.609985  281.609985   \n",
       "7  2018-07-25  281.329987  284.369995  281.279999  284.010010  284.010010   \n",
       "8  2018-07-26  283.200012  284.109985  283.089996  283.339996  283.339996   \n",
       "9  2018-07-27  283.709991  283.820007  280.380005  281.420013  281.420013   \n",
       "\n",
       "     Volume     day_ago    week_ago  day_ago_close  week_ago_close       chg  \n",
       "0  48201000         NaN         NaN            NaN             NaN       NaN  \n",
       "1  52315500  2018-07-16         NaN     279.339996             NaN       NaN  \n",
       "2  44593500  2018-07-17         NaN     280.470001             NaN       NaN  \n",
       "3  61412100  2018-07-18         NaN     281.059998             NaN       NaN  \n",
       "4  82337700  2018-07-19         NaN     280.000000             NaN       NaN  \n",
       "5  47047600  2018-07-20         NaN     279.679993             NaN       NaN  \n",
       "6  68026900  2018-07-23         NaN     280.200012             NaN       NaN  \n",
       "7  78882900  2018-07-24  2018-07-16     281.609985      279.339996  0.812626  \n",
       "8  57919500  2018-07-25  2018-07-17     284.010010      280.470001  1.262170  \n",
       "9  76768700  2018-07-26  2018-07-18     283.339996      281.059998  0.811214  "
      ]
     },
     "execution_count": 72,
     "metadata": {},
     "output_type": "execute_result"
    }
   ],
   "source": [
    "sp.head(10)"
   ]
  },
  {
   "cell_type": "code",
   "execution_count": 73,
   "metadata": {},
   "outputs": [],
   "source": [
    "df['sp_close_open_chg_pct'] = sp.chg"
   ]
  },
  {
   "cell_type": "code",
   "execution_count": 74,
   "metadata": {},
   "outputs": [
    {
     "data": {
      "text/plain": [
       "count    17.000000\n",
       "mean      0.436672\n",
       "std       0.882171\n",
       "min      -1.330621\n",
       "25%      -0.259985\n",
       "50%       0.403274\n",
       "75%       1.144198\n",
       "max       2.011064\n",
       "Name: sp_close_open_chg_pct, dtype: float64"
      ]
     },
     "execution_count": 74,
     "metadata": {},
     "output_type": "execute_result"
    }
   ],
   "source": [
    "df['sp_close_open_chg_pct'].describe()"
   ]
  },
  {
   "cell_type": "code",
   "execution_count": 75,
   "metadata": {},
   "outputs": [
    {
     "data": {
      "text/html": [
       "<div>\n",
       "<style scoped>\n",
       "    .dataframe tbody tr th:only-of-type {\n",
       "        vertical-align: middle;\n",
       "    }\n",
       "\n",
       "    .dataframe tbody tr th {\n",
       "        vertical-align: top;\n",
       "    }\n",
       "\n",
       "    .dataframe thead th {\n",
       "        text-align: right;\n",
       "    }\n",
       "</style>\n",
       "<table border=\"1\" class=\"dataframe\">\n",
       "  <thead>\n",
       "    <tr style=\"text-align: right;\">\n",
       "      <th></th>\n",
       "      <th>date</th>\n",
       "      <th>issuer</th>\n",
       "      <th>symbol</th>\n",
       "      <th>managers</th>\n",
       "      <th>offer_price</th>\n",
       "      <th>open_price</th>\n",
       "      <th>first_day_close</th>\n",
       "      <th>first_day_pctchg</th>\n",
       "      <th>dollar_change_open</th>\n",
       "      <th>dollar_change_close</th>\n",
       "      <th>star_rating</th>\n",
       "      <th>performed</th>\n",
       "      <th>dollar_chg_opencls</th>\n",
       "      <th>pct_chg_opencls</th>\n",
       "      <th>sp_close_open_chg_pct</th>\n",
       "    </tr>\n",
       "  </thead>\n",
       "  <tbody>\n",
       "    <tr>\n",
       "      <th>0</th>\n",
       "      <td>2018-02-16</td>\n",
       "      <td>Farmmi</td>\n",
       "      <td>FAMI</td>\n",
       "      <td>ViewTrade Securities</td>\n",
       "      <td>4.00</td>\n",
       "      <td>4.40</td>\n",
       "      <td>6.18</td>\n",
       "      <td>54.50</td>\n",
       "      <td>0.40</td>\n",
       "      <td>2.18</td>\n",
       "      <td>0.0</td>\n",
       "      <td>NaN</td>\n",
       "      <td>1.78</td>\n",
       "      <td>40.454545</td>\n",
       "      <td>NaN</td>\n",
       "    </tr>\n",
       "    <tr>\n",
       "      <th>1</th>\n",
       "      <td>2018-03-16</td>\n",
       "      <td>Senmiao Technology</td>\n",
       "      <td>AIHS</td>\n",
       "      <td>ViewTrade Securities</td>\n",
       "      <td>4.00</td>\n",
       "      <td>5.51</td>\n",
       "      <td>5.56</td>\n",
       "      <td>39.00</td>\n",
       "      <td>1.51</td>\n",
       "      <td>1.56</td>\n",
       "      <td>1.0</td>\n",
       "      <td>Missed</td>\n",
       "      <td>0.05</td>\n",
       "      <td>0.907441</td>\n",
       "      <td>NaN</td>\n",
       "    </tr>\n",
       "    <tr>\n",
       "      <th>2</th>\n",
       "      <td>2018-03-20</td>\n",
       "      <td>Golden Bull</td>\n",
       "      <td>DNJR</td>\n",
       "      <td>ViewTrade Securities</td>\n",
       "      <td>4.00</td>\n",
       "      <td>5.20</td>\n",
       "      <td>4.62</td>\n",
       "      <td>15.50</td>\n",
       "      <td>1.20</td>\n",
       "      <td>0.62</td>\n",
       "      <td>0.0</td>\n",
       "      <td>NaN</td>\n",
       "      <td>-0.58</td>\n",
       "      <td>-11.153846</td>\n",
       "      <td>NaN</td>\n",
       "    </tr>\n",
       "    <tr>\n",
       "      <th>3</th>\n",
       "      <td>2018-02-14</td>\n",
       "      <td>Motus GI Holdings</td>\n",
       "      <td>MOTS</td>\n",
       "      <td>Piper Jaffray/ Oppenheimer</td>\n",
       "      <td>5.00</td>\n",
       "      <td>5.00</td>\n",
       "      <td>4.38</td>\n",
       "      <td>-12.40</td>\n",
       "      <td>0.00</td>\n",
       "      <td>-0.62</td>\n",
       "      <td>1.0</td>\n",
       "      <td>NaN</td>\n",
       "      <td>-0.62</td>\n",
       "      <td>-12.400000</td>\n",
       "      <td>NaN</td>\n",
       "    </tr>\n",
       "    <tr>\n",
       "      <th>4</th>\n",
       "      <td>2018-02-01</td>\n",
       "      <td>One Stop Systems</td>\n",
       "      <td>OSS</td>\n",
       "      <td>Roth Capital Partners</td>\n",
       "      <td>5.00</td>\n",
       "      <td>5.55</td>\n",
       "      <td>4.88</td>\n",
       "      <td>-2.40</td>\n",
       "      <td>0.55</td>\n",
       "      <td>-0.12</td>\n",
       "      <td>1.0</td>\n",
       "      <td>NaN</td>\n",
       "      <td>-0.67</td>\n",
       "      <td>-12.072072</td>\n",
       "      <td>NaN</td>\n",
       "    </tr>\n",
       "    <tr>\n",
       "      <th>5</th>\n",
       "      <td>2018-03-29</td>\n",
       "      <td>Genprex</td>\n",
       "      <td>GNPX</td>\n",
       "      <td>Network 1 Financial Securities</td>\n",
       "      <td>5.00</td>\n",
       "      <td>4.64</td>\n",
       "      <td>4.70</td>\n",
       "      <td>-6.00</td>\n",
       "      <td>-0.36</td>\n",
       "      <td>-0.30</td>\n",
       "      <td>1.0</td>\n",
       "      <td>NaN</td>\n",
       "      <td>0.06</td>\n",
       "      <td>1.293103</td>\n",
       "      <td>NaN</td>\n",
       "    </tr>\n",
       "    <tr>\n",
       "      <th>6</th>\n",
       "      <td>2018-06-27</td>\n",
       "      <td>HyreCar</td>\n",
       "      <td>HYRE</td>\n",
       "      <td>Network 1 Financial Securities</td>\n",
       "      <td>5.00</td>\n",
       "      <td>5.55</td>\n",
       "      <td>5.10</td>\n",
       "      <td>2.00</td>\n",
       "      <td>0.55</td>\n",
       "      <td>0.10</td>\n",
       "      <td>1.0</td>\n",
       "      <td>NaN</td>\n",
       "      <td>-0.45</td>\n",
       "      <td>-8.108108</td>\n",
       "      <td>NaN</td>\n",
       "    </tr>\n",
       "    <tr>\n",
       "      <th>7</th>\n",
       "      <td>2018-07-27</td>\n",
       "      <td>Adial Pharmaceuticals</td>\n",
       "      <td>ADIL</td>\n",
       "      <td>Joseph Gunnar &amp; Co.</td>\n",
       "      <td>5.00</td>\n",
       "      <td>4.00</td>\n",
       "      <td>4.05</td>\n",
       "      <td>-19.00</td>\n",
       "      <td>-1.00</td>\n",
       "      <td>-0.95</td>\n",
       "      <td>1.0</td>\n",
       "      <td>NaN</td>\n",
       "      <td>0.05</td>\n",
       "      <td>1.250000</td>\n",
       "      <td>0.812626</td>\n",
       "    </tr>\n",
       "    <tr>\n",
       "      <th>8</th>\n",
       "      <td>2018-05-24</td>\n",
       "      <td>CLPS Incorporation</td>\n",
       "      <td>CLPS</td>\n",
       "      <td>Benchmark/ Cuttone</td>\n",
       "      <td>5.25</td>\n",
       "      <td>5.75</td>\n",
       "      <td>5.51</td>\n",
       "      <td>4.95</td>\n",
       "      <td>0.50</td>\n",
       "      <td>0.26</td>\n",
       "      <td>0.0</td>\n",
       "      <td>NaN</td>\n",
       "      <td>-0.24</td>\n",
       "      <td>-4.173913</td>\n",
       "      <td>1.262170</td>\n",
       "    </tr>\n",
       "    <tr>\n",
       "      <th>9</th>\n",
       "      <td>2018-06-28</td>\n",
       "      <td>Entera Bio Ltd.</td>\n",
       "      <td>ENTX</td>\n",
       "      <td>Maxim Group</td>\n",
       "      <td>8.00</td>\n",
       "      <td>7.30</td>\n",
       "      <td>6.28</td>\n",
       "      <td>-21.50</td>\n",
       "      <td>-0.70</td>\n",
       "      <td>-1.72</td>\n",
       "      <td>0.0</td>\n",
       "      <td>NaN</td>\n",
       "      <td>-1.02</td>\n",
       "      <td>-13.972603</td>\n",
       "      <td>0.811214</td>\n",
       "    </tr>\n",
       "  </tbody>\n",
       "</table>\n",
       "</div>"
      ],
      "text/plain": [
       "        date                  issuer symbol                        managers  \\\n",
       "0 2018-02-16                  Farmmi   FAMI            ViewTrade Securities   \n",
       "1 2018-03-16     Senmiao Technology    AIHS            ViewTrade Securities   \n",
       "2 2018-03-20             Golden Bull   DNJR            ViewTrade Securities   \n",
       "3 2018-02-14      Motus GI Holdings    MOTS      Piper Jaffray/ Oppenheimer   \n",
       "4 2018-02-01       One Stop Systems     OSS           Roth Capital Partners   \n",
       "5 2018-03-29                Genprex    GNPX  Network 1 Financial Securities   \n",
       "6 2018-06-27                HyreCar    HYRE  Network 1 Financial Securities   \n",
       "7 2018-07-27  Adial Pharmaceuticals    ADIL             Joseph Gunnar & Co.   \n",
       "8 2018-05-24     CLPS Incorporation    CLPS              Benchmark/ Cuttone   \n",
       "9 2018-06-28        Entera Bio Ltd.    ENTX                    Maxim Group    \n",
       "\n",
       "   offer_price  open_price  first_day_close  first_day_pctchg  \\\n",
       "0         4.00        4.40             6.18             54.50   \n",
       "1         4.00        5.51             5.56             39.00   \n",
       "2         4.00        5.20             4.62             15.50   \n",
       "3         5.00        5.00             4.38            -12.40   \n",
       "4         5.00        5.55             4.88             -2.40   \n",
       "5         5.00        4.64             4.70             -6.00   \n",
       "6         5.00        5.55             5.10              2.00   \n",
       "7         5.00        4.00             4.05            -19.00   \n",
       "8         5.25        5.75             5.51              4.95   \n",
       "9         8.00        7.30             6.28            -21.50   \n",
       "\n",
       "   dollar_change_open  dollar_change_close  star_rating performed  \\\n",
       "0                0.40                 2.18          0.0       NaN   \n",
       "1                1.51                 1.56          1.0    Missed   \n",
       "2                1.20                 0.62          0.0       NaN   \n",
       "3                0.00                -0.62          1.0       NaN   \n",
       "4                0.55                -0.12          1.0       NaN   \n",
       "5               -0.36                -0.30          1.0       NaN   \n",
       "6                0.55                 0.10          1.0       NaN   \n",
       "7               -1.00                -0.95          1.0       NaN   \n",
       "8                0.50                 0.26          0.0       NaN   \n",
       "9               -0.70                -1.72          0.0       NaN   \n",
       "\n",
       "   dollar_chg_opencls  pct_chg_opencls  sp_close_open_chg_pct  \n",
       "0                1.78        40.454545                    NaN  \n",
       "1                0.05         0.907441                    NaN  \n",
       "2               -0.58       -11.153846                    NaN  \n",
       "3               -0.62       -12.400000                    NaN  \n",
       "4               -0.67       -12.072072                    NaN  \n",
       "5                0.06         1.293103                    NaN  \n",
       "6               -0.45        -8.108108                    NaN  \n",
       "7                0.05         1.250000               0.812626  \n",
       "8               -0.24        -4.173913               1.262170  \n",
       "9               -1.02       -13.972603               0.811214  "
      ]
     },
     "execution_count": 75,
     "metadata": {},
     "output_type": "execute_result"
    }
   ],
   "source": [
    "df.head(10)"
   ]
  },
  {
   "cell_type": "code",
   "execution_count": 76,
   "metadata": {},
   "outputs": [
    {
     "data": {
      "text/plain": [
       "0              ViewTrade Securities\n",
       "1              ViewTrade Securities\n",
       "2              ViewTrade Securities\n",
       "3        Piper Jaffray/ Oppenheimer\n",
       "4             Roth Capital Partners\n",
       "5    Network 1 Financial Securities\n",
       "6    Network 1 Financial Securities\n",
       "7               Joseph Gunnar & Co.\n",
       "8                Benchmark/ Cuttone\n",
       "9                      Maxim Group \n",
       "Name: managers, dtype: object"
      ]
     },
     "execution_count": 76,
     "metadata": {},
     "output_type": "execute_result"
    }
   ],
   "source": [
    "df.managers[:10]"
   ]
  },
  {
   "cell_type": "code",
   "execution_count": 77,
   "metadata": {},
   "outputs": [],
   "source": [
    "df['lead_mgr'] = df['managers'].astype('str').map(lambda x:x.split('/')[0])"
   ]
  },
  {
   "cell_type": "code",
   "execution_count": 78,
   "metadata": {},
   "outputs": [
    {
     "data": {
      "text/plain": [
       "0     ViewTrade Securities\n",
       "1     ViewTrade Securities\n",
       "2     ViewTrade Securities\n",
       "3            Piper Jaffray\n",
       "4    Roth Capital Partners\n",
       "Name: lead_mgr, dtype: object"
      ]
     },
     "execution_count": 78,
     "metadata": {},
     "output_type": "execute_result"
    }
   ],
   "source": [
    "df['lead_mgr'].head()"
   ]
  },
  {
   "cell_type": "code",
   "execution_count": 79,
   "metadata": {},
   "outputs": [],
   "source": [
    "df.loc[df['lead_mgr'].str.contains('ViewTrade'), 'lead_mgr'] = 'viewtrade securities'"
   ]
  },
  {
   "cell_type": "code",
   "execution_count": 80,
   "metadata": {},
   "outputs": [
    {
     "data": {
      "text/plain": [
       "0     viewtrade securities\n",
       "1     viewtrade securities\n",
       "2     viewtrade securities\n",
       "3            Piper Jaffray\n",
       "4    Roth Capital Partners\n",
       "Name: lead_mgr, dtype: object"
      ]
     },
     "execution_count": 80,
     "metadata": {},
     "output_type": "execute_result"
    }
   ],
   "source": [
    "df['lead_mgr'].head()"
   ]
  },
  {
   "cell_type": "code",
   "execution_count": 81,
   "metadata": {},
   "outputs": [
    {
     "data": {
      "text/plain": [
       "array(['viewtrade securities', 'Piper Jaffray', 'Roth Capital Partners',\n",
       "       'Network 1 Financial Securities', 'Joseph Gunnar & Co.'],\n",
       "      dtype=object)"
      ]
     },
     "execution_count": 81,
     "metadata": {},
     "output_type": "execute_result"
    }
   ],
   "source": [
    "df.lead_mgr.unique()[:5]"
   ]
  },
  {
   "cell_type": "code",
   "execution_count": 82,
   "metadata": {},
   "outputs": [
    {
     "data": {
      "text/plain": [
       "Index(['date', 'issuer', 'symbol', 'managers', 'offer_price', 'open_price',\n",
       "       'first_day_close', 'first_day_pctchg', 'dollar_change_open',\n",
       "       'dollar_change_close', 'star_rating', 'performed', 'dollar_chg_opencls',\n",
       "       'pct_chg_opencls', 'sp_close_open_chg_pct', 'lead_mgr'],\n",
       "      dtype='object')"
      ]
     },
     "execution_count": 82,
     "metadata": {},
     "output_type": "execute_result"
    }
   ],
   "source": [
    "df.columns"
   ]
  },
  {
   "cell_type": "code",
   "execution_count": 83,
   "metadata": {},
   "outputs": [],
   "source": [
    "df['gap_open_pct'] = (df['dollar_change_open'].astype('float')/df['open_price'].astype('float'))*100"
   ]
  },
  {
   "cell_type": "code",
   "execution_count": 84,
   "metadata": {},
   "outputs": [],
   "source": [
    "df['open_to_close_pct'] = ((df['dollar_change_close'].astype('float') - df['dollar_change_open'].astype('float'))/df['open_price'].astype('float')) * 100"
   ]
  },
  {
   "cell_type": "code",
   "execution_count": 85,
   "metadata": {},
   "outputs": [
    {
     "data": {
      "text/html": [
       "<div>\n",
       "<style scoped>\n",
       "    .dataframe tbody tr th:only-of-type {\n",
       "        vertical-align: middle;\n",
       "    }\n",
       "\n",
       "    .dataframe tbody tr th {\n",
       "        vertical-align: top;\n",
       "    }\n",
       "\n",
       "    .dataframe thead th {\n",
       "        text-align: right;\n",
       "    }\n",
       "</style>\n",
       "<table border=\"1\" class=\"dataframe\">\n",
       "  <thead>\n",
       "    <tr style=\"text-align: right;\">\n",
       "      <th></th>\n",
       "      <th>date</th>\n",
       "      <th>issuer</th>\n",
       "      <th>symbol</th>\n",
       "      <th>managers</th>\n",
       "      <th>offer_price</th>\n",
       "      <th>open_price</th>\n",
       "      <th>first_day_close</th>\n",
       "      <th>first_day_pctchg</th>\n",
       "      <th>dollar_change_open</th>\n",
       "      <th>dollar_change_close</th>\n",
       "      <th>star_rating</th>\n",
       "      <th>performed</th>\n",
       "      <th>dollar_chg_opencls</th>\n",
       "      <th>pct_chg_opencls</th>\n",
       "      <th>sp_close_open_chg_pct</th>\n",
       "      <th>lead_mgr</th>\n",
       "      <th>gap_open_pct</th>\n",
       "      <th>open_to_close_pct</th>\n",
       "    </tr>\n",
       "  </thead>\n",
       "  <tbody>\n",
       "    <tr>\n",
       "      <th>0</th>\n",
       "      <td>2018-02-16</td>\n",
       "      <td>Farmmi</td>\n",
       "      <td>FAMI</td>\n",
       "      <td>ViewTrade Securities</td>\n",
       "      <td>4.0</td>\n",
       "      <td>4.40</td>\n",
       "      <td>6.18</td>\n",
       "      <td>54.5</td>\n",
       "      <td>0.40</td>\n",
       "      <td>2.18</td>\n",
       "      <td>0.0</td>\n",
       "      <td>NaN</td>\n",
       "      <td>1.78</td>\n",
       "      <td>40.454545</td>\n",
       "      <td>NaN</td>\n",
       "      <td>viewtrade securities</td>\n",
       "      <td>9.090909</td>\n",
       "      <td>40.454545</td>\n",
       "    </tr>\n",
       "    <tr>\n",
       "      <th>1</th>\n",
       "      <td>2018-03-16</td>\n",
       "      <td>Senmiao Technology</td>\n",
       "      <td>AIHS</td>\n",
       "      <td>ViewTrade Securities</td>\n",
       "      <td>4.0</td>\n",
       "      <td>5.51</td>\n",
       "      <td>5.56</td>\n",
       "      <td>39.0</td>\n",
       "      <td>1.51</td>\n",
       "      <td>1.56</td>\n",
       "      <td>1.0</td>\n",
       "      <td>Missed</td>\n",
       "      <td>0.05</td>\n",
       "      <td>0.907441</td>\n",
       "      <td>NaN</td>\n",
       "      <td>viewtrade securities</td>\n",
       "      <td>27.404719</td>\n",
       "      <td>0.907441</td>\n",
       "    </tr>\n",
       "    <tr>\n",
       "      <th>2</th>\n",
       "      <td>2018-03-20</td>\n",
       "      <td>Golden Bull</td>\n",
       "      <td>DNJR</td>\n",
       "      <td>ViewTrade Securities</td>\n",
       "      <td>4.0</td>\n",
       "      <td>5.20</td>\n",
       "      <td>4.62</td>\n",
       "      <td>15.5</td>\n",
       "      <td>1.20</td>\n",
       "      <td>0.62</td>\n",
       "      <td>0.0</td>\n",
       "      <td>NaN</td>\n",
       "      <td>-0.58</td>\n",
       "      <td>-11.153846</td>\n",
       "      <td>NaN</td>\n",
       "      <td>viewtrade securities</td>\n",
       "      <td>23.076923</td>\n",
       "      <td>-11.153846</td>\n",
       "    </tr>\n",
       "    <tr>\n",
       "      <th>3</th>\n",
       "      <td>2018-02-14</td>\n",
       "      <td>Motus GI Holdings</td>\n",
       "      <td>MOTS</td>\n",
       "      <td>Piper Jaffray/ Oppenheimer</td>\n",
       "      <td>5.0</td>\n",
       "      <td>5.00</td>\n",
       "      <td>4.38</td>\n",
       "      <td>-12.4</td>\n",
       "      <td>0.00</td>\n",
       "      <td>-0.62</td>\n",
       "      <td>1.0</td>\n",
       "      <td>NaN</td>\n",
       "      <td>-0.62</td>\n",
       "      <td>-12.400000</td>\n",
       "      <td>NaN</td>\n",
       "      <td>Piper Jaffray</td>\n",
       "      <td>0.000000</td>\n",
       "      <td>-12.400000</td>\n",
       "    </tr>\n",
       "    <tr>\n",
       "      <th>4</th>\n",
       "      <td>2018-02-01</td>\n",
       "      <td>One Stop Systems</td>\n",
       "      <td>OSS</td>\n",
       "      <td>Roth Capital Partners</td>\n",
       "      <td>5.0</td>\n",
       "      <td>5.55</td>\n",
       "      <td>4.88</td>\n",
       "      <td>-2.4</td>\n",
       "      <td>0.55</td>\n",
       "      <td>-0.12</td>\n",
       "      <td>1.0</td>\n",
       "      <td>NaN</td>\n",
       "      <td>-0.67</td>\n",
       "      <td>-12.072072</td>\n",
       "      <td>NaN</td>\n",
       "      <td>Roth Capital Partners</td>\n",
       "      <td>9.909910</td>\n",
       "      <td>-12.072072</td>\n",
       "    </tr>\n",
       "  </tbody>\n",
       "</table>\n",
       "</div>"
      ],
      "text/plain": [
       "        date               issuer symbol                    managers  \\\n",
       "0 2018-02-16               Farmmi   FAMI        ViewTrade Securities   \n",
       "1 2018-03-16  Senmiao Technology    AIHS        ViewTrade Securities   \n",
       "2 2018-03-20          Golden Bull   DNJR        ViewTrade Securities   \n",
       "3 2018-02-14   Motus GI Holdings    MOTS  Piper Jaffray/ Oppenheimer   \n",
       "4 2018-02-01    One Stop Systems     OSS       Roth Capital Partners   \n",
       "\n",
       "   offer_price  open_price  first_day_close  first_day_pctchg  \\\n",
       "0          4.0        4.40             6.18              54.5   \n",
       "1          4.0        5.51             5.56              39.0   \n",
       "2          4.0        5.20             4.62              15.5   \n",
       "3          5.0        5.00             4.38             -12.4   \n",
       "4          5.0        5.55             4.88              -2.4   \n",
       "\n",
       "   dollar_change_open  dollar_change_close  star_rating performed  \\\n",
       "0                0.40                 2.18          0.0       NaN   \n",
       "1                1.51                 1.56          1.0    Missed   \n",
       "2                1.20                 0.62          0.0       NaN   \n",
       "3                0.00                -0.62          1.0       NaN   \n",
       "4                0.55                -0.12          1.0       NaN   \n",
       "\n",
       "   dollar_chg_opencls  pct_chg_opencls  sp_close_open_chg_pct  \\\n",
       "0                1.78        40.454545                    NaN   \n",
       "1                0.05         0.907441                    NaN   \n",
       "2               -0.58       -11.153846                    NaN   \n",
       "3               -0.62       -12.400000                    NaN   \n",
       "4               -0.67       -12.072072                    NaN   \n",
       "\n",
       "                lead_mgr  gap_open_pct  open_to_close_pct  \n",
       "0   viewtrade securities      9.090909          40.454545  \n",
       "1   viewtrade securities     27.404719           0.907441  \n",
       "2   viewtrade securities     23.076923         -11.153846  \n",
       "3          Piper Jaffray      0.000000         -12.400000  \n",
       "4  Roth Capital Partners      9.909910         -12.072072  "
      ]
     },
     "execution_count": 85,
     "metadata": {},
     "output_type": "execute_result"
    }
   ],
   "source": [
    "df.head()"
   ]
  },
  {
   "cell_type": "code",
   "execution_count": 86,
   "metadata": {},
   "outputs": [
    {
     "data": {
      "text/plain": [
       "Index(['date', 'issuer', 'symbol', 'managers', 'offer_price', 'open_price',\n",
       "       'first_day_close', 'first_day_pctchg', 'dollar_change_open',\n",
       "       'dollar_change_close', 'star_rating', 'performed', 'dollar_chg_opencls',\n",
       "       'pct_chg_opencls', 'sp_close_open_chg_pct', 'lead_mgr', 'gap_open_pct',\n",
       "       'open_to_close_pct'],\n",
       "      dtype='object')"
      ]
     },
     "execution_count": 86,
     "metadata": {},
     "output_type": "execute_result"
    }
   ],
   "source": [
    "df.columns"
   ]
  },
  {
   "cell_type": "code",
   "execution_count": 87,
   "metadata": {},
   "outputs": [],
   "source": [
    "df['month'] = df.date.dt.month"
   ]
  },
  {
   "cell_type": "code",
   "execution_count": 88,
   "metadata": {},
   "outputs": [
    {
     "data": {
      "text/plain": [
       "0    2.0\n",
       "1    3.0\n",
       "2    3.0\n",
       "3    2.0\n",
       "4    2.0\n",
       "Name: month, dtype: float64"
      ]
     },
     "execution_count": 88,
     "metadata": {},
     "output_type": "execute_result"
    }
   ],
   "source": [
    "df.month[:5]"
   ]
  },
  {
   "cell_type": "code",
   "execution_count": 89,
   "metadata": {},
   "outputs": [],
   "source": [
    "df['day'] = df.date.dt.dayofweek"
   ]
  },
  {
   "cell_type": "code",
   "execution_count": 90,
   "metadata": {},
   "outputs": [
    {
     "data": {
      "text/plain": [
       "0    4.0\n",
       "1    4.0\n",
       "2    1.0\n",
       "3    2.0\n",
       "4    3.0\n",
       "Name: day, dtype: float64"
      ]
     },
     "execution_count": 90,
     "metadata": {},
     "output_type": "execute_result"
    }
   ],
   "source": [
    "df['day'][:5]"
   ]
  },
  {
   "cell_type": "code",
   "execution_count": 91,
   "metadata": {},
   "outputs": [
    {
     "data": {
      "text/html": [
       "<div>\n",
       "<style scoped>\n",
       "    .dataframe tbody tr th:only-of-type {\n",
       "        vertical-align: middle;\n",
       "    }\n",
       "\n",
       "    .dataframe tbody tr th {\n",
       "        vertical-align: top;\n",
       "    }\n",
       "\n",
       "    .dataframe thead th {\n",
       "        text-align: right;\n",
       "    }\n",
       "</style>\n",
       "<table border=\"1\" class=\"dataframe\">\n",
       "  <thead>\n",
       "    <tr style=\"text-align: right;\">\n",
       "      <th></th>\n",
       "      <th>date</th>\n",
       "      <th>issuer</th>\n",
       "      <th>symbol</th>\n",
       "      <th>managers</th>\n",
       "      <th>offer_price</th>\n",
       "      <th>open_price</th>\n",
       "      <th>first_day_close</th>\n",
       "      <th>first_day_pctchg</th>\n",
       "      <th>dollar_change_open</th>\n",
       "      <th>dollar_change_close</th>\n",
       "      <th>star_rating</th>\n",
       "      <th>performed</th>\n",
       "      <th>dollar_chg_opencls</th>\n",
       "      <th>pct_chg_opencls</th>\n",
       "      <th>sp_close_open_chg_pct</th>\n",
       "      <th>lead_mgr</th>\n",
       "      <th>gap_open_pct</th>\n",
       "      <th>open_to_close_pct</th>\n",
       "      <th>month</th>\n",
       "      <th>day</th>\n",
       "    </tr>\n",
       "  </thead>\n",
       "  <tbody>\n",
       "    <tr>\n",
       "      <th>0</th>\n",
       "      <td>2018-02-16</td>\n",
       "      <td>Farmmi</td>\n",
       "      <td>FAMI</td>\n",
       "      <td>ViewTrade Securities</td>\n",
       "      <td>4.0</td>\n",
       "      <td>4.40</td>\n",
       "      <td>6.18</td>\n",
       "      <td>54.5</td>\n",
       "      <td>0.40</td>\n",
       "      <td>2.18</td>\n",
       "      <td>0.0</td>\n",
       "      <td>NaN</td>\n",
       "      <td>1.78</td>\n",
       "      <td>40.454545</td>\n",
       "      <td>NaN</td>\n",
       "      <td>viewtrade securities</td>\n",
       "      <td>9.090909</td>\n",
       "      <td>40.454545</td>\n",
       "      <td>2.0</td>\n",
       "      <td>4.0</td>\n",
       "    </tr>\n",
       "    <tr>\n",
       "      <th>1</th>\n",
       "      <td>2018-03-16</td>\n",
       "      <td>Senmiao Technology</td>\n",
       "      <td>AIHS</td>\n",
       "      <td>ViewTrade Securities</td>\n",
       "      <td>4.0</td>\n",
       "      <td>5.51</td>\n",
       "      <td>5.56</td>\n",
       "      <td>39.0</td>\n",
       "      <td>1.51</td>\n",
       "      <td>1.56</td>\n",
       "      <td>1.0</td>\n",
       "      <td>Missed</td>\n",
       "      <td>0.05</td>\n",
       "      <td>0.907441</td>\n",
       "      <td>NaN</td>\n",
       "      <td>viewtrade securities</td>\n",
       "      <td>27.404719</td>\n",
       "      <td>0.907441</td>\n",
       "      <td>3.0</td>\n",
       "      <td>4.0</td>\n",
       "    </tr>\n",
       "    <tr>\n",
       "      <th>2</th>\n",
       "      <td>2018-03-20</td>\n",
       "      <td>Golden Bull</td>\n",
       "      <td>DNJR</td>\n",
       "      <td>ViewTrade Securities</td>\n",
       "      <td>4.0</td>\n",
       "      <td>5.20</td>\n",
       "      <td>4.62</td>\n",
       "      <td>15.5</td>\n",
       "      <td>1.20</td>\n",
       "      <td>0.62</td>\n",
       "      <td>0.0</td>\n",
       "      <td>NaN</td>\n",
       "      <td>-0.58</td>\n",
       "      <td>-11.153846</td>\n",
       "      <td>NaN</td>\n",
       "      <td>viewtrade securities</td>\n",
       "      <td>23.076923</td>\n",
       "      <td>-11.153846</td>\n",
       "      <td>3.0</td>\n",
       "      <td>1.0</td>\n",
       "    </tr>\n",
       "    <tr>\n",
       "      <th>3</th>\n",
       "      <td>2018-02-14</td>\n",
       "      <td>Motus GI Holdings</td>\n",
       "      <td>MOTS</td>\n",
       "      <td>Piper Jaffray/ Oppenheimer</td>\n",
       "      <td>5.0</td>\n",
       "      <td>5.00</td>\n",
       "      <td>4.38</td>\n",
       "      <td>-12.4</td>\n",
       "      <td>0.00</td>\n",
       "      <td>-0.62</td>\n",
       "      <td>1.0</td>\n",
       "      <td>NaN</td>\n",
       "      <td>-0.62</td>\n",
       "      <td>-12.400000</td>\n",
       "      <td>NaN</td>\n",
       "      <td>Piper Jaffray</td>\n",
       "      <td>0.000000</td>\n",
       "      <td>-12.400000</td>\n",
       "      <td>2.0</td>\n",
       "      <td>2.0</td>\n",
       "    </tr>\n",
       "    <tr>\n",
       "      <th>4</th>\n",
       "      <td>2018-02-01</td>\n",
       "      <td>One Stop Systems</td>\n",
       "      <td>OSS</td>\n",
       "      <td>Roth Capital Partners</td>\n",
       "      <td>5.0</td>\n",
       "      <td>5.55</td>\n",
       "      <td>4.88</td>\n",
       "      <td>-2.4</td>\n",
       "      <td>0.55</td>\n",
       "      <td>-0.12</td>\n",
       "      <td>1.0</td>\n",
       "      <td>NaN</td>\n",
       "      <td>-0.67</td>\n",
       "      <td>-12.072072</td>\n",
       "      <td>NaN</td>\n",
       "      <td>Roth Capital Partners</td>\n",
       "      <td>9.909910</td>\n",
       "      <td>-12.072072</td>\n",
       "      <td>2.0</td>\n",
       "      <td>3.0</td>\n",
       "    </tr>\n",
       "  </tbody>\n",
       "</table>\n",
       "</div>"
      ],
      "text/plain": [
       "        date               issuer symbol                    managers  \\\n",
       "0 2018-02-16               Farmmi   FAMI        ViewTrade Securities   \n",
       "1 2018-03-16  Senmiao Technology    AIHS        ViewTrade Securities   \n",
       "2 2018-03-20          Golden Bull   DNJR        ViewTrade Securities   \n",
       "3 2018-02-14   Motus GI Holdings    MOTS  Piper Jaffray/ Oppenheimer   \n",
       "4 2018-02-01    One Stop Systems     OSS       Roth Capital Partners   \n",
       "\n",
       "   offer_price  open_price  first_day_close  first_day_pctchg  \\\n",
       "0          4.0        4.40             6.18              54.5   \n",
       "1          4.0        5.51             5.56              39.0   \n",
       "2          4.0        5.20             4.62              15.5   \n",
       "3          5.0        5.00             4.38             -12.4   \n",
       "4          5.0        5.55             4.88              -2.4   \n",
       "\n",
       "   dollar_change_open  dollar_change_close  star_rating performed  \\\n",
       "0                0.40                 2.18          0.0       NaN   \n",
       "1                1.51                 1.56          1.0    Missed   \n",
       "2                1.20                 0.62          0.0       NaN   \n",
       "3                0.00                -0.62          1.0       NaN   \n",
       "4                0.55                -0.12          1.0       NaN   \n",
       "\n",
       "   dollar_chg_opencls  pct_chg_opencls  sp_close_open_chg_pct  \\\n",
       "0                1.78        40.454545                    NaN   \n",
       "1                0.05         0.907441                    NaN   \n",
       "2               -0.58       -11.153846                    NaN   \n",
       "3               -0.62       -12.400000                    NaN   \n",
       "4               -0.67       -12.072072                    NaN   \n",
       "\n",
       "                lead_mgr  gap_open_pct  open_to_close_pct  month  day  \n",
       "0   viewtrade securities      9.090909          40.454545    2.0  4.0  \n",
       "1   viewtrade securities     27.404719           0.907441    3.0  4.0  \n",
       "2   viewtrade securities     23.076923         -11.153846    3.0  1.0  \n",
       "3          Piper Jaffray      0.000000         -12.400000    2.0  2.0  \n",
       "4  Roth Capital Partners      9.909910         -12.072072    2.0  3.0  "
      ]
     },
     "execution_count": 91,
     "metadata": {},
     "output_type": "execute_result"
    }
   ],
   "source": [
    "df.head()"
   ]
  },
  {
   "cell_type": "code",
   "execution_count": 92,
   "metadata": {},
   "outputs": [],
   "source": [
    "df['day'] = df.day.map({1: 'mon', 2: 'tues', 3: 'weds', 4:'thurs', 5:'fri'   })"
   ]
  },
  {
   "cell_type": "code",
   "execution_count": 93,
   "metadata": {},
   "outputs": [],
   "source": [
    "df['month'] = df.month.map({1: 'jan', 2: 'feb', 3: 'mar', 4:'apr', 5:'may', 6:'jun', 7:'jul', 8: 'aug', 9: 'sept', 10: 'oct', 11: 'nov', 12: 'dec'})"
   ]
  },
  {
   "cell_type": "code",
   "execution_count": 94,
   "metadata": {},
   "outputs": [
    {
     "data": {
      "text/html": [
       "<div>\n",
       "<style scoped>\n",
       "    .dataframe tbody tr th:only-of-type {\n",
       "        vertical-align: middle;\n",
       "    }\n",
       "\n",
       "    .dataframe tbody tr th {\n",
       "        vertical-align: top;\n",
       "    }\n",
       "\n",
       "    .dataframe thead th {\n",
       "        text-align: right;\n",
       "    }\n",
       "</style>\n",
       "<table border=\"1\" class=\"dataframe\">\n",
       "  <thead>\n",
       "    <tr style=\"text-align: right;\">\n",
       "      <th></th>\n",
       "      <th>date</th>\n",
       "      <th>issuer</th>\n",
       "      <th>symbol</th>\n",
       "      <th>managers</th>\n",
       "      <th>offer_price</th>\n",
       "      <th>open_price</th>\n",
       "      <th>first_day_close</th>\n",
       "      <th>first_day_pctchg</th>\n",
       "      <th>dollar_change_open</th>\n",
       "      <th>dollar_change_close</th>\n",
       "      <th>star_rating</th>\n",
       "      <th>performed</th>\n",
       "      <th>dollar_chg_opencls</th>\n",
       "      <th>pct_chg_opencls</th>\n",
       "      <th>sp_close_open_chg_pct</th>\n",
       "      <th>lead_mgr</th>\n",
       "      <th>gap_open_pct</th>\n",
       "      <th>open_to_close_pct</th>\n",
       "      <th>month</th>\n",
       "      <th>day</th>\n",
       "    </tr>\n",
       "  </thead>\n",
       "  <tbody>\n",
       "    <tr>\n",
       "      <th>0</th>\n",
       "      <td>2018-02-16</td>\n",
       "      <td>Farmmi</td>\n",
       "      <td>FAMI</td>\n",
       "      <td>ViewTrade Securities</td>\n",
       "      <td>4.0</td>\n",
       "      <td>4.40</td>\n",
       "      <td>6.18</td>\n",
       "      <td>54.5</td>\n",
       "      <td>0.40</td>\n",
       "      <td>2.18</td>\n",
       "      <td>0.0</td>\n",
       "      <td>NaN</td>\n",
       "      <td>1.78</td>\n",
       "      <td>40.454545</td>\n",
       "      <td>NaN</td>\n",
       "      <td>viewtrade securities</td>\n",
       "      <td>9.090909</td>\n",
       "      <td>40.454545</td>\n",
       "      <td>feb</td>\n",
       "      <td>thurs</td>\n",
       "    </tr>\n",
       "    <tr>\n",
       "      <th>1</th>\n",
       "      <td>2018-03-16</td>\n",
       "      <td>Senmiao Technology</td>\n",
       "      <td>AIHS</td>\n",
       "      <td>ViewTrade Securities</td>\n",
       "      <td>4.0</td>\n",
       "      <td>5.51</td>\n",
       "      <td>5.56</td>\n",
       "      <td>39.0</td>\n",
       "      <td>1.51</td>\n",
       "      <td>1.56</td>\n",
       "      <td>1.0</td>\n",
       "      <td>Missed</td>\n",
       "      <td>0.05</td>\n",
       "      <td>0.907441</td>\n",
       "      <td>NaN</td>\n",
       "      <td>viewtrade securities</td>\n",
       "      <td>27.404719</td>\n",
       "      <td>0.907441</td>\n",
       "      <td>mar</td>\n",
       "      <td>thurs</td>\n",
       "    </tr>\n",
       "    <tr>\n",
       "      <th>2</th>\n",
       "      <td>2018-03-20</td>\n",
       "      <td>Golden Bull</td>\n",
       "      <td>DNJR</td>\n",
       "      <td>ViewTrade Securities</td>\n",
       "      <td>4.0</td>\n",
       "      <td>5.20</td>\n",
       "      <td>4.62</td>\n",
       "      <td>15.5</td>\n",
       "      <td>1.20</td>\n",
       "      <td>0.62</td>\n",
       "      <td>0.0</td>\n",
       "      <td>NaN</td>\n",
       "      <td>-0.58</td>\n",
       "      <td>-11.153846</td>\n",
       "      <td>NaN</td>\n",
       "      <td>viewtrade securities</td>\n",
       "      <td>23.076923</td>\n",
       "      <td>-11.153846</td>\n",
       "      <td>mar</td>\n",
       "      <td>mon</td>\n",
       "    </tr>\n",
       "    <tr>\n",
       "      <th>3</th>\n",
       "      <td>2018-02-14</td>\n",
       "      <td>Motus GI Holdings</td>\n",
       "      <td>MOTS</td>\n",
       "      <td>Piper Jaffray/ Oppenheimer</td>\n",
       "      <td>5.0</td>\n",
       "      <td>5.00</td>\n",
       "      <td>4.38</td>\n",
       "      <td>-12.4</td>\n",
       "      <td>0.00</td>\n",
       "      <td>-0.62</td>\n",
       "      <td>1.0</td>\n",
       "      <td>NaN</td>\n",
       "      <td>-0.62</td>\n",
       "      <td>-12.400000</td>\n",
       "      <td>NaN</td>\n",
       "      <td>Piper Jaffray</td>\n",
       "      <td>0.000000</td>\n",
       "      <td>-12.400000</td>\n",
       "      <td>feb</td>\n",
       "      <td>tues</td>\n",
       "    </tr>\n",
       "    <tr>\n",
       "      <th>4</th>\n",
       "      <td>2018-02-01</td>\n",
       "      <td>One Stop Systems</td>\n",
       "      <td>OSS</td>\n",
       "      <td>Roth Capital Partners</td>\n",
       "      <td>5.0</td>\n",
       "      <td>5.55</td>\n",
       "      <td>4.88</td>\n",
       "      <td>-2.4</td>\n",
       "      <td>0.55</td>\n",
       "      <td>-0.12</td>\n",
       "      <td>1.0</td>\n",
       "      <td>NaN</td>\n",
       "      <td>-0.67</td>\n",
       "      <td>-12.072072</td>\n",
       "      <td>NaN</td>\n",
       "      <td>Roth Capital Partners</td>\n",
       "      <td>9.909910</td>\n",
       "      <td>-12.072072</td>\n",
       "      <td>feb</td>\n",
       "      <td>weds</td>\n",
       "    </tr>\n",
       "  </tbody>\n",
       "</table>\n",
       "</div>"
      ],
      "text/plain": [
       "        date               issuer symbol                    managers  \\\n",
       "0 2018-02-16               Farmmi   FAMI        ViewTrade Securities   \n",
       "1 2018-03-16  Senmiao Technology    AIHS        ViewTrade Securities   \n",
       "2 2018-03-20          Golden Bull   DNJR        ViewTrade Securities   \n",
       "3 2018-02-14   Motus GI Holdings    MOTS  Piper Jaffray/ Oppenheimer   \n",
       "4 2018-02-01    One Stop Systems     OSS       Roth Capital Partners   \n",
       "\n",
       "   offer_price  open_price  first_day_close  first_day_pctchg  \\\n",
       "0          4.0        4.40             6.18              54.5   \n",
       "1          4.0        5.51             5.56              39.0   \n",
       "2          4.0        5.20             4.62              15.5   \n",
       "3          5.0        5.00             4.38             -12.4   \n",
       "4          5.0        5.55             4.88              -2.4   \n",
       "\n",
       "   dollar_change_open  dollar_change_close  star_rating performed  \\\n",
       "0                0.40                 2.18          0.0       NaN   \n",
       "1                1.51                 1.56          1.0    Missed   \n",
       "2                1.20                 0.62          0.0       NaN   \n",
       "3                0.00                -0.62          1.0       NaN   \n",
       "4                0.55                -0.12          1.0       NaN   \n",
       "\n",
       "   dollar_chg_opencls  pct_chg_opencls  sp_close_open_chg_pct  \\\n",
       "0                1.78        40.454545                    NaN   \n",
       "1                0.05         0.907441                    NaN   \n",
       "2               -0.58       -11.153846                    NaN   \n",
       "3               -0.62       -12.400000                    NaN   \n",
       "4               -0.67       -12.072072                    NaN   \n",
       "\n",
       "                lead_mgr  gap_open_pct  open_to_close_pct month    day  \n",
       "0   viewtrade securities      9.090909          40.454545   feb  thurs  \n",
       "1   viewtrade securities     27.404719           0.907441   mar  thurs  \n",
       "2   viewtrade securities     23.076923         -11.153846   mar    mon  \n",
       "3          Piper Jaffray      0.000000         -12.400000   feb   tues  \n",
       "4  Roth Capital Partners      9.909910         -12.072072   feb   weds  "
      ]
     },
     "execution_count": 94,
     "metadata": {},
     "output_type": "execute_result"
    }
   ],
   "source": [
    "df.head()"
   ]
  },
  {
   "cell_type": "markdown",
   "metadata": {},
   "source": [
    "### Feature Selection"
   ]
  },
  {
   "cell_type": "code",
   "execution_count": 95,
   "metadata": {},
   "outputs": [
    {
     "data": {
      "text/plain": [
       "Index(['date', 'issuer', 'symbol', 'managers', 'offer_price', 'open_price',\n",
       "       'first_day_close', 'first_day_pctchg', 'dollar_change_open',\n",
       "       'dollar_change_close', 'star_rating', 'performed', 'dollar_chg_opencls',\n",
       "       'pct_chg_opencls', 'sp_close_open_chg_pct', 'lead_mgr', 'gap_open_pct',\n",
       "       'open_to_close_pct', 'month', 'day'],\n",
       "      dtype='object')"
      ]
     },
     "execution_count": 95,
     "metadata": {},
     "output_type": "execute_result"
    }
   ],
   "source": [
    "df.columns"
   ]
  },
  {
   "cell_type": "code",
   "execution_count": 96,
   "metadata": {},
   "outputs": [],
   "source": [
    "X = pd.get_dummies(df[['month', 'day', 'gap_open_pct', 'dollar_change_open', 'offer_price', 'open_price', 'dollar_chg_opencls']], drop_first = True)"
   ]
  },
  {
   "cell_type": "code",
   "execution_count": 97,
   "metadata": {},
   "outputs": [
    {
     "data": {
      "text/html": [
       "<div>\n",
       "<style scoped>\n",
       "    .dataframe tbody tr th:only-of-type {\n",
       "        vertical-align: middle;\n",
       "    }\n",
       "\n",
       "    .dataframe tbody tr th {\n",
       "        vertical-align: top;\n",
       "    }\n",
       "\n",
       "    .dataframe thead th {\n",
       "        text-align: right;\n",
       "    }\n",
       "</style>\n",
       "<table border=\"1\" class=\"dataframe\">\n",
       "  <thead>\n",
       "    <tr style=\"text-align: right;\">\n",
       "      <th></th>\n",
       "      <th>gap_open_pct</th>\n",
       "      <th>dollar_change_open</th>\n",
       "      <th>offer_price</th>\n",
       "      <th>open_price</th>\n",
       "      <th>dollar_chg_opencls</th>\n",
       "      <th>month_aug</th>\n",
       "      <th>month_dec</th>\n",
       "      <th>month_feb</th>\n",
       "      <th>month_jan</th>\n",
       "      <th>month_jul</th>\n",
       "      <th>month_jun</th>\n",
       "      <th>month_mar</th>\n",
       "      <th>month_may</th>\n",
       "      <th>month_nov</th>\n",
       "      <th>month_oct</th>\n",
       "      <th>month_sept</th>\n",
       "      <th>day_mon</th>\n",
       "      <th>day_thurs</th>\n",
       "      <th>day_tues</th>\n",
       "      <th>day_weds</th>\n",
       "    </tr>\n",
       "  </thead>\n",
       "  <tbody>\n",
       "    <tr>\n",
       "      <th>0</th>\n",
       "      <td>9.090909</td>\n",
       "      <td>0.40</td>\n",
       "      <td>4.00</td>\n",
       "      <td>4.40</td>\n",
       "      <td>1.78</td>\n",
       "      <td>0</td>\n",
       "      <td>0</td>\n",
       "      <td>1</td>\n",
       "      <td>0</td>\n",
       "      <td>0</td>\n",
       "      <td>0</td>\n",
       "      <td>0</td>\n",
       "      <td>0</td>\n",
       "      <td>0</td>\n",
       "      <td>0</td>\n",
       "      <td>0</td>\n",
       "      <td>0</td>\n",
       "      <td>1</td>\n",
       "      <td>0</td>\n",
       "      <td>0</td>\n",
       "    </tr>\n",
       "    <tr>\n",
       "      <th>1</th>\n",
       "      <td>27.404719</td>\n",
       "      <td>1.51</td>\n",
       "      <td>4.00</td>\n",
       "      <td>5.51</td>\n",
       "      <td>0.05</td>\n",
       "      <td>0</td>\n",
       "      <td>0</td>\n",
       "      <td>0</td>\n",
       "      <td>0</td>\n",
       "      <td>0</td>\n",
       "      <td>0</td>\n",
       "      <td>1</td>\n",
       "      <td>0</td>\n",
       "      <td>0</td>\n",
       "      <td>0</td>\n",
       "      <td>0</td>\n",
       "      <td>0</td>\n",
       "      <td>1</td>\n",
       "      <td>0</td>\n",
       "      <td>0</td>\n",
       "    </tr>\n",
       "    <tr>\n",
       "      <th>2</th>\n",
       "      <td>23.076923</td>\n",
       "      <td>1.20</td>\n",
       "      <td>4.00</td>\n",
       "      <td>5.20</td>\n",
       "      <td>-0.58</td>\n",
       "      <td>0</td>\n",
       "      <td>0</td>\n",
       "      <td>0</td>\n",
       "      <td>0</td>\n",
       "      <td>0</td>\n",
       "      <td>0</td>\n",
       "      <td>1</td>\n",
       "      <td>0</td>\n",
       "      <td>0</td>\n",
       "      <td>0</td>\n",
       "      <td>0</td>\n",
       "      <td>1</td>\n",
       "      <td>0</td>\n",
       "      <td>0</td>\n",
       "      <td>0</td>\n",
       "    </tr>\n",
       "    <tr>\n",
       "      <th>3</th>\n",
       "      <td>0.000000</td>\n",
       "      <td>0.00</td>\n",
       "      <td>5.00</td>\n",
       "      <td>5.00</td>\n",
       "      <td>-0.62</td>\n",
       "      <td>0</td>\n",
       "      <td>0</td>\n",
       "      <td>1</td>\n",
       "      <td>0</td>\n",
       "      <td>0</td>\n",
       "      <td>0</td>\n",
       "      <td>0</td>\n",
       "      <td>0</td>\n",
       "      <td>0</td>\n",
       "      <td>0</td>\n",
       "      <td>0</td>\n",
       "      <td>0</td>\n",
       "      <td>0</td>\n",
       "      <td>1</td>\n",
       "      <td>0</td>\n",
       "    </tr>\n",
       "    <tr>\n",
       "      <th>4</th>\n",
       "      <td>9.909910</td>\n",
       "      <td>0.55</td>\n",
       "      <td>5.00</td>\n",
       "      <td>5.55</td>\n",
       "      <td>-0.67</td>\n",
       "      <td>0</td>\n",
       "      <td>0</td>\n",
       "      <td>1</td>\n",
       "      <td>0</td>\n",
       "      <td>0</td>\n",
       "      <td>0</td>\n",
       "      <td>0</td>\n",
       "      <td>0</td>\n",
       "      <td>0</td>\n",
       "      <td>0</td>\n",
       "      <td>0</td>\n",
       "      <td>0</td>\n",
       "      <td>0</td>\n",
       "      <td>0</td>\n",
       "      <td>1</td>\n",
       "    </tr>\n",
       "    <tr>\n",
       "      <th>5</th>\n",
       "      <td>-7.758621</td>\n",
       "      <td>-0.36</td>\n",
       "      <td>5.00</td>\n",
       "      <td>4.64</td>\n",
       "      <td>0.06</td>\n",
       "      <td>0</td>\n",
       "      <td>0</td>\n",
       "      <td>0</td>\n",
       "      <td>0</td>\n",
       "      <td>0</td>\n",
       "      <td>0</td>\n",
       "      <td>1</td>\n",
       "      <td>0</td>\n",
       "      <td>0</td>\n",
       "      <td>0</td>\n",
       "      <td>0</td>\n",
       "      <td>0</td>\n",
       "      <td>0</td>\n",
       "      <td>0</td>\n",
       "      <td>1</td>\n",
       "    </tr>\n",
       "    <tr>\n",
       "      <th>6</th>\n",
       "      <td>9.909910</td>\n",
       "      <td>0.55</td>\n",
       "      <td>5.00</td>\n",
       "      <td>5.55</td>\n",
       "      <td>-0.45</td>\n",
       "      <td>0</td>\n",
       "      <td>0</td>\n",
       "      <td>0</td>\n",
       "      <td>0</td>\n",
       "      <td>0</td>\n",
       "      <td>1</td>\n",
       "      <td>0</td>\n",
       "      <td>0</td>\n",
       "      <td>0</td>\n",
       "      <td>0</td>\n",
       "      <td>0</td>\n",
       "      <td>0</td>\n",
       "      <td>0</td>\n",
       "      <td>1</td>\n",
       "      <td>0</td>\n",
       "    </tr>\n",
       "    <tr>\n",
       "      <th>7</th>\n",
       "      <td>-25.000000</td>\n",
       "      <td>-1.00</td>\n",
       "      <td>5.00</td>\n",
       "      <td>4.00</td>\n",
       "      <td>0.05</td>\n",
       "      <td>0</td>\n",
       "      <td>0</td>\n",
       "      <td>0</td>\n",
       "      <td>0</td>\n",
       "      <td>1</td>\n",
       "      <td>0</td>\n",
       "      <td>0</td>\n",
       "      <td>0</td>\n",
       "      <td>0</td>\n",
       "      <td>0</td>\n",
       "      <td>0</td>\n",
       "      <td>0</td>\n",
       "      <td>1</td>\n",
       "      <td>0</td>\n",
       "      <td>0</td>\n",
       "    </tr>\n",
       "    <tr>\n",
       "      <th>8</th>\n",
       "      <td>8.695652</td>\n",
       "      <td>0.50</td>\n",
       "      <td>5.25</td>\n",
       "      <td>5.75</td>\n",
       "      <td>-0.24</td>\n",
       "      <td>0</td>\n",
       "      <td>0</td>\n",
       "      <td>0</td>\n",
       "      <td>0</td>\n",
       "      <td>0</td>\n",
       "      <td>0</td>\n",
       "      <td>0</td>\n",
       "      <td>1</td>\n",
       "      <td>0</td>\n",
       "      <td>0</td>\n",
       "      <td>0</td>\n",
       "      <td>0</td>\n",
       "      <td>0</td>\n",
       "      <td>0</td>\n",
       "      <td>1</td>\n",
       "    </tr>\n",
       "    <tr>\n",
       "      <th>9</th>\n",
       "      <td>-9.589041</td>\n",
       "      <td>-0.70</td>\n",
       "      <td>8.00</td>\n",
       "      <td>7.30</td>\n",
       "      <td>-1.02</td>\n",
       "      <td>0</td>\n",
       "      <td>0</td>\n",
       "      <td>0</td>\n",
       "      <td>0</td>\n",
       "      <td>0</td>\n",
       "      <td>1</td>\n",
       "      <td>0</td>\n",
       "      <td>0</td>\n",
       "      <td>0</td>\n",
       "      <td>0</td>\n",
       "      <td>0</td>\n",
       "      <td>0</td>\n",
       "      <td>0</td>\n",
       "      <td>0</td>\n",
       "      <td>1</td>\n",
       "    </tr>\n",
       "  </tbody>\n",
       "</table>\n",
       "</div>"
      ],
      "text/plain": [
       "   gap_open_pct  dollar_change_open  offer_price  open_price  \\\n",
       "0      9.090909                0.40         4.00        4.40   \n",
       "1     27.404719                1.51         4.00        5.51   \n",
       "2     23.076923                1.20         4.00        5.20   \n",
       "3      0.000000                0.00         5.00        5.00   \n",
       "4      9.909910                0.55         5.00        5.55   \n",
       "5     -7.758621               -0.36         5.00        4.64   \n",
       "6      9.909910                0.55         5.00        5.55   \n",
       "7    -25.000000               -1.00         5.00        4.00   \n",
       "8      8.695652                0.50         5.25        5.75   \n",
       "9     -9.589041               -0.70         8.00        7.30   \n",
       "\n",
       "   dollar_chg_opencls  month_aug  month_dec  month_feb  month_jan  month_jul  \\\n",
       "0                1.78          0          0          1          0          0   \n",
       "1                0.05          0          0          0          0          0   \n",
       "2               -0.58          0          0          0          0          0   \n",
       "3               -0.62          0          0          1          0          0   \n",
       "4               -0.67          0          0          1          0          0   \n",
       "5                0.06          0          0          0          0          0   \n",
       "6               -0.45          0          0          0          0          0   \n",
       "7                0.05          0          0          0          0          1   \n",
       "8               -0.24          0          0          0          0          0   \n",
       "9               -1.02          0          0          0          0          0   \n",
       "\n",
       "   month_jun  month_mar  month_may  month_nov  month_oct  month_sept  day_mon  \\\n",
       "0          0          0          0          0          0           0        0   \n",
       "1          0          1          0          0          0           0        0   \n",
       "2          0          1          0          0          0           0        1   \n",
       "3          0          0          0          0          0           0        0   \n",
       "4          0          0          0          0          0           0        0   \n",
       "5          0          1          0          0          0           0        0   \n",
       "6          1          0          0          0          0           0        0   \n",
       "7          0          0          0          0          0           0        0   \n",
       "8          0          0          1          0          0           0        0   \n",
       "9          1          0          0          0          0           0        0   \n",
       "\n",
       "   day_thurs  day_tues  day_weds  \n",
       "0          1         0         0  \n",
       "1          1         0         0  \n",
       "2          0         0         0  \n",
       "3          0         1         0  \n",
       "4          0         0         1  \n",
       "5          0         0         1  \n",
       "6          0         1         0  \n",
       "7          1         0         0  \n",
       "8          0         0         1  \n",
       "9          0         0         1  "
      ]
     },
     "execution_count": 97,
     "metadata": {},
     "output_type": "execute_result"
    }
   ],
   "source": [
    "X.head(10)"
   ]
  },
  {
   "cell_type": "code",
   "execution_count": 98,
   "metadata": {},
   "outputs": [
    {
     "data": {
      "text/plain": [
       "(3142, 20)"
      ]
     },
     "execution_count": 98,
     "metadata": {},
     "output_type": "execute_result"
    }
   ],
   "source": [
    "X.shape"
   ]
  },
  {
   "cell_type": "code",
   "execution_count": 99,
   "metadata": {},
   "outputs": [],
   "source": [
    "X = X[7:]"
   ]
  },
  {
   "cell_type": "code",
   "execution_count": 100,
   "metadata": {},
   "outputs": [
    {
     "data": {
      "text/plain": [
       "(3135, 20)"
      ]
     },
     "execution_count": 100,
     "metadata": {},
     "output_type": "execute_result"
    }
   ],
   "source": [
    "X.shape"
   ]
  },
  {
   "cell_type": "code",
   "execution_count": 101,
   "metadata": {},
   "outputs": [
    {
     "data": {
      "text/html": [
       "<div>\n",
       "<style scoped>\n",
       "    .dataframe tbody tr th:only-of-type {\n",
       "        vertical-align: middle;\n",
       "    }\n",
       "\n",
       "    .dataframe tbody tr th {\n",
       "        vertical-align: top;\n",
       "    }\n",
       "\n",
       "    .dataframe thead th {\n",
       "        text-align: right;\n",
       "    }\n",
       "</style>\n",
       "<table border=\"1\" class=\"dataframe\">\n",
       "  <thead>\n",
       "    <tr style=\"text-align: right;\">\n",
       "      <th></th>\n",
       "      <th>gap_open_pct</th>\n",
       "      <th>dollar_change_open</th>\n",
       "      <th>offer_price</th>\n",
       "      <th>open_price</th>\n",
       "      <th>dollar_chg_opencls</th>\n",
       "      <th>month_aug</th>\n",
       "      <th>month_dec</th>\n",
       "      <th>month_feb</th>\n",
       "      <th>month_jan</th>\n",
       "      <th>month_jul</th>\n",
       "      <th>month_jun</th>\n",
       "      <th>month_mar</th>\n",
       "      <th>month_may</th>\n",
       "      <th>month_nov</th>\n",
       "      <th>month_oct</th>\n",
       "      <th>month_sept</th>\n",
       "      <th>day_mon</th>\n",
       "      <th>day_thurs</th>\n",
       "      <th>day_tues</th>\n",
       "      <th>day_weds</th>\n",
       "    </tr>\n",
       "  </thead>\n",
       "  <tbody>\n",
       "    <tr>\n",
       "      <th>7</th>\n",
       "      <td>-25.000000</td>\n",
       "      <td>-1.0</td>\n",
       "      <td>5.00</td>\n",
       "      <td>4.00</td>\n",
       "      <td>0.05</td>\n",
       "      <td>0</td>\n",
       "      <td>0</td>\n",
       "      <td>0</td>\n",
       "      <td>0</td>\n",
       "      <td>1</td>\n",
       "      <td>0</td>\n",
       "      <td>0</td>\n",
       "      <td>0</td>\n",
       "      <td>0</td>\n",
       "      <td>0</td>\n",
       "      <td>0</td>\n",
       "      <td>0</td>\n",
       "      <td>1</td>\n",
       "      <td>0</td>\n",
       "      <td>0</td>\n",
       "    </tr>\n",
       "    <tr>\n",
       "      <th>8</th>\n",
       "      <td>8.695652</td>\n",
       "      <td>0.5</td>\n",
       "      <td>5.25</td>\n",
       "      <td>5.75</td>\n",
       "      <td>-0.24</td>\n",
       "      <td>0</td>\n",
       "      <td>0</td>\n",
       "      <td>0</td>\n",
       "      <td>0</td>\n",
       "      <td>0</td>\n",
       "      <td>0</td>\n",
       "      <td>0</td>\n",
       "      <td>1</td>\n",
       "      <td>0</td>\n",
       "      <td>0</td>\n",
       "      <td>0</td>\n",
       "      <td>0</td>\n",
       "      <td>0</td>\n",
       "      <td>0</td>\n",
       "      <td>1</td>\n",
       "    </tr>\n",
       "    <tr>\n",
       "      <th>9</th>\n",
       "      <td>-9.589041</td>\n",
       "      <td>-0.7</td>\n",
       "      <td>8.00</td>\n",
       "      <td>7.30</td>\n",
       "      <td>-1.02</td>\n",
       "      <td>0</td>\n",
       "      <td>0</td>\n",
       "      <td>0</td>\n",
       "      <td>0</td>\n",
       "      <td>0</td>\n",
       "      <td>1</td>\n",
       "      <td>0</td>\n",
       "      <td>0</td>\n",
       "      <td>0</td>\n",
       "      <td>0</td>\n",
       "      <td>0</td>\n",
       "      <td>0</td>\n",
       "      <td>0</td>\n",
       "      <td>0</td>\n",
       "      <td>1</td>\n",
       "    </tr>\n",
       "    <tr>\n",
       "      <th>10</th>\n",
       "      <td>5.555556</td>\n",
       "      <td>0.5</td>\n",
       "      <td>8.50</td>\n",
       "      <td>9.00</td>\n",
       "      <td>-0.20</td>\n",
       "      <td>0</td>\n",
       "      <td>0</td>\n",
       "      <td>0</td>\n",
       "      <td>0</td>\n",
       "      <td>1</td>\n",
       "      <td>0</td>\n",
       "      <td>0</td>\n",
       "      <td>0</td>\n",
       "      <td>0</td>\n",
       "      <td>0</td>\n",
       "      <td>0</td>\n",
       "      <td>0</td>\n",
       "      <td>0</td>\n",
       "      <td>1</td>\n",
       "      <td>0</td>\n",
       "    </tr>\n",
       "    <tr>\n",
       "      <th>11</th>\n",
       "      <td>13.461538</td>\n",
       "      <td>1.4</td>\n",
       "      <td>9.00</td>\n",
       "      <td>10.40</td>\n",
       "      <td>-0.73</td>\n",
       "      <td>0</td>\n",
       "      <td>0</td>\n",
       "      <td>0</td>\n",
       "      <td>0</td>\n",
       "      <td>0</td>\n",
       "      <td>1</td>\n",
       "      <td>0</td>\n",
       "      <td>0</td>\n",
       "      <td>0</td>\n",
       "      <td>0</td>\n",
       "      <td>0</td>\n",
       "      <td>0</td>\n",
       "      <td>0</td>\n",
       "      <td>1</td>\n",
       "      <td>0</td>\n",
       "    </tr>\n",
       "  </tbody>\n",
       "</table>\n",
       "</div>"
      ],
      "text/plain": [
       "    gap_open_pct  dollar_change_open  offer_price  open_price  \\\n",
       "7     -25.000000                -1.0         5.00        4.00   \n",
       "8       8.695652                 0.5         5.25        5.75   \n",
       "9      -9.589041                -0.7         8.00        7.30   \n",
       "10      5.555556                 0.5         8.50        9.00   \n",
       "11     13.461538                 1.4         9.00       10.40   \n",
       "\n",
       "    dollar_chg_opencls  month_aug  month_dec  month_feb  month_jan  month_jul  \\\n",
       "7                 0.05          0          0          0          0          1   \n",
       "8                -0.24          0          0          0          0          0   \n",
       "9                -1.02          0          0          0          0          0   \n",
       "10               -0.20          0          0          0          0          1   \n",
       "11               -0.73          0          0          0          0          0   \n",
       "\n",
       "    month_jun  month_mar  month_may  month_nov  month_oct  month_sept  \\\n",
       "7           0          0          0          0          0           0   \n",
       "8           0          0          1          0          0           0   \n",
       "9           1          0          0          0          0           0   \n",
       "10          0          0          0          0          0           0   \n",
       "11          1          0          0          0          0           0   \n",
       "\n",
       "    day_mon  day_thurs  day_tues  day_weds  \n",
       "7         0          1         0         0  \n",
       "8         0          0         0         1  \n",
       "9         0          0         0         1  \n",
       "10        0          0         1         0  \n",
       "11        0          0         1         0  "
      ]
     },
     "execution_count": 101,
     "metadata": {},
     "output_type": "execute_result"
    }
   ],
   "source": [
    "X.head()"
   ]
  },
  {
   "cell_type": "code",
   "execution_count": 102,
   "metadata": {},
   "outputs": [
    {
     "data": {
      "text/plain": [
       "gap_open_pct          19\n",
       "dollar_change_open    19\n",
       "offer_price           19\n",
       "open_price            19\n",
       "dollar_chg_opencls    19\n",
       "month_aug              0\n",
       "month_dec              0\n",
       "month_feb              0\n",
       "month_jan              0\n",
       "month_jul              0\n",
       "month_jun              0\n",
       "month_mar              0\n",
       "month_may              0\n",
       "month_nov              0\n",
       "month_oct              0\n",
       "month_sept             0\n",
       "day_mon                0\n",
       "day_thurs              0\n",
       "day_tues               0\n",
       "day_weds               0\n",
       "dtype: int64"
      ]
     },
     "execution_count": 102,
     "metadata": {},
     "output_type": "execute_result"
    }
   ],
   "source": [
    "X.isnull().sum()"
   ]
  },
  {
   "cell_type": "code",
   "execution_count": 103,
   "metadata": {},
   "outputs": [
    {
     "data": {
      "text/plain": [
       "(3116, 20)"
      ]
     },
     "execution_count": 103,
     "metadata": {},
     "output_type": "execute_result"
    }
   ],
   "source": [
    "X.dropna().shape"
   ]
  },
  {
   "cell_type": "code",
   "execution_count": 104,
   "metadata": {},
   "outputs": [],
   "source": [
    "X = X.dropna()"
   ]
  },
  {
   "cell_type": "code",
   "execution_count": 105,
   "metadata": {},
   "outputs": [
    {
     "data": {
      "text/plain": [
       "Index(['gap_open_pct', 'dollar_change_open', 'offer_price', 'open_price',\n",
       "       'dollar_chg_opencls', 'month_aug', 'month_dec', 'month_feb',\n",
       "       'month_jan', 'month_jul', 'month_jun', 'month_mar', 'month_may',\n",
       "       'month_nov', 'month_oct', 'month_sept', 'day_mon', 'day_thurs',\n",
       "       'day_tues', 'day_weds'],\n",
       "      dtype='object')"
      ]
     },
     "execution_count": 105,
     "metadata": {},
     "output_type": "execute_result"
    }
   ],
   "source": [
    "X.columns"
   ]
  },
  {
   "cell_type": "markdown",
   "metadata": {},
   "source": [
    "### Binary Classification"
   ]
  },
  {
   "cell_type": "code",
   "execution_count": 106,
   "metadata": {},
   "outputs": [],
   "source": [
    "y = X.dollar_chg_opencls\n",
    "X = X.drop('dollar_chg_opencls', axis = 1)\n",
    "\n",
    "X_train, X_test = X[:2800], X[2800:]"
   ]
  },
  {
   "cell_type": "code",
   "execution_count": 107,
   "metadata": {},
   "outputs": [
    {
     "data": {
      "text/plain": [
       "(316, 19)"
      ]
     },
     "execution_count": 107,
     "metadata": {},
     "output_type": "execute_result"
    }
   ],
   "source": [
    "X_test.shape"
   ]
  },
  {
   "cell_type": "code",
   "execution_count": 108,
   "metadata": {},
   "outputs": [
    {
     "name": "stdout",
     "output_type": "stream",
     "text": [
      "<class 'pandas.core.frame.DataFrame'>\n",
      "Int64Index: 316 entries, 2807 to 3122\n",
      "Data columns (total 19 columns):\n",
      "gap_open_pct          316 non-null float64\n",
      "dollar_change_open    316 non-null float64\n",
      "offer_price           316 non-null float64\n",
      "open_price            316 non-null float64\n",
      "month_aug             316 non-null uint8\n",
      "month_dec             316 non-null uint8\n",
      "month_feb             316 non-null uint8\n",
      "month_jan             316 non-null uint8\n",
      "month_jul             316 non-null uint8\n",
      "month_jun             316 non-null uint8\n",
      "month_mar             316 non-null uint8\n",
      "month_may             316 non-null uint8\n",
      "month_nov             316 non-null uint8\n",
      "month_oct             316 non-null uint8\n",
      "month_sept            316 non-null uint8\n",
      "day_mon               316 non-null uint8\n",
      "day_thurs             316 non-null uint8\n",
      "day_tues              316 non-null uint8\n",
      "day_weds              316 non-null uint8\n",
      "dtypes: float64(4), uint8(15)\n",
      "memory usage: 17.0 KB\n"
     ]
    }
   ],
   "source": [
    "X_test.info()"
   ]
  },
  {
   "cell_type": "code",
   "execution_count": 109,
   "metadata": {},
   "outputs": [
    {
     "data": {
      "text/plain": [
       "7     0.05\n",
       "8    -0.24\n",
       "9    -1.02\n",
       "10   -0.20\n",
       "11   -0.73\n",
       "12    0.00\n",
       "13   -0.07\n",
       "14    0.00\n",
       "15    0.00\n",
       "16    0.06\n",
       "Name: dollar_chg_opencls, dtype: float64"
      ]
     },
     "execution_count": 109,
     "metadata": {},
     "output_type": "execute_result"
    }
   ],
   "source": [
    "y[:10]"
   ]
  },
  {
   "cell_type": "code",
   "execution_count": 110,
   "metadata": {},
   "outputs": [],
   "source": [
    "y = y.map(lambda x: 1 if x > 1 else 0)"
   ]
  },
  {
   "cell_type": "code",
   "execution_count": 111,
   "metadata": {},
   "outputs": [],
   "source": [
    "y_train = y[:2800]\n",
    "y_test = y[2800:]"
   ]
  },
  {
   "cell_type": "code",
   "execution_count": 112,
   "metadata": {},
   "outputs": [
    {
     "data": {
      "text/plain": [
       "(316,)"
      ]
     },
     "execution_count": 112,
     "metadata": {},
     "output_type": "execute_result"
    }
   ],
   "source": [
    "y_test.shape"
   ]
  },
  {
   "cell_type": "code",
   "execution_count": 113,
   "metadata": {},
   "outputs": [
    {
     "data": {
      "text/plain": [
       "7     0\n",
       "8     0\n",
       "9     0\n",
       "10    0\n",
       "11    0\n",
       "12    0\n",
       "13    0\n",
       "14    0\n",
       "15    0\n",
       "16    0\n",
       "Name: dollar_chg_opencls, dtype: int64"
      ]
     },
     "execution_count": 113,
     "metadata": {},
     "output_type": "execute_result"
    }
   ],
   "source": [
    "y_train[:10]"
   ]
  },
  {
   "cell_type": "code",
   "execution_count": 114,
   "metadata": {},
   "outputs": [],
   "source": [
    "from sklearn.linear_model import LogisticRegression"
   ]
  },
  {
   "cell_type": "code",
   "execution_count": 115,
   "metadata": {},
   "outputs": [
    {
     "data": {
      "text/plain": [
       "LogisticRegression(C=1.0, class_weight=None, dual=False, fit_intercept=True,\n",
       "          intercept_scaling=1, max_iter=100, multi_class='ovr', n_jobs=1,\n",
       "          penalty='l2', random_state=None, solver='liblinear', tol=0.0001,\n",
       "          verbose=0, warm_start=False)"
      ]
     },
     "execution_count": 115,
     "metadata": {},
     "output_type": "execute_result"
    }
   ],
   "source": [
    "clf = LogisticRegression()\n",
    "clf.fit(X_train, y_train)"
   ]
  },
  {
   "cell_type": "code",
   "execution_count": 116,
   "metadata": {},
   "outputs": [
    {
     "data": {
      "text/plain": [
       "0.6962025316455697"
      ]
     },
     "execution_count": 116,
     "metadata": {},
     "output_type": "execute_result"
    }
   ],
   "source": [
    "clf.score(X_test, y_test)"
   ]
  },
  {
   "cell_type": "code",
   "execution_count": 127,
   "metadata": {},
   "outputs": [],
   "source": [
    "nyse = pd.read_csv('nyse-companylist.csv')"
   ]
  },
  {
   "cell_type": "code",
   "execution_count": 128,
   "metadata": {},
   "outputs": [
    {
     "data": {
      "text/html": [
       "<div>\n",
       "<style scoped>\n",
       "    .dataframe tbody tr th:only-of-type {\n",
       "        vertical-align: middle;\n",
       "    }\n",
       "\n",
       "    .dataframe tbody tr th {\n",
       "        vertical-align: top;\n",
       "    }\n",
       "\n",
       "    .dataframe thead th {\n",
       "        text-align: right;\n",
       "    }\n",
       "</style>\n",
       "<table border=\"1\" class=\"dataframe\">\n",
       "  <thead>\n",
       "    <tr style=\"text-align: right;\">\n",
       "      <th></th>\n",
       "      <th>Symbol</th>\n",
       "      <th>Name</th>\n",
       "      <th>LastSale</th>\n",
       "      <th>MarketCap</th>\n",
       "      <th>IPOyear</th>\n",
       "      <th>Sector</th>\n",
       "      <th>industry</th>\n",
       "      <th>Summary Quote</th>\n",
       "      <th>Unnamed: 8</th>\n",
       "    </tr>\n",
       "  </thead>\n",
       "  <tbody>\n",
       "    <tr>\n",
       "      <th>0</th>\n",
       "      <td>DDD</td>\n",
       "      <td>3D Systems Corporation</td>\n",
       "      <td>14.30</td>\n",
       "      <td>$1.61B</td>\n",
       "      <td>NaN</td>\n",
       "      <td>Technology</td>\n",
       "      <td>Computer Software: Prepackaged Software</td>\n",
       "      <td>http://www.nasdaq.com/symbol/ddd</td>\n",
       "      <td>NaN</td>\n",
       "    </tr>\n",
       "    <tr>\n",
       "      <th>1</th>\n",
       "      <td>MMM</td>\n",
       "      <td>3M Company</td>\n",
       "      <td>172.91</td>\n",
       "      <td>$104B</td>\n",
       "      <td>NaN</td>\n",
       "      <td>Health Care</td>\n",
       "      <td>Medical/Dental Instruments</td>\n",
       "      <td>http://www.nasdaq.com/symbol/mmm</td>\n",
       "      <td>NaN</td>\n",
       "    </tr>\n",
       "    <tr>\n",
       "      <th>2</th>\n",
       "      <td>WBAI</td>\n",
       "      <td>500.com Limited</td>\n",
       "      <td>13.47</td>\n",
       "      <td>$558.98M</td>\n",
       "      <td>2013.0</td>\n",
       "      <td>Consumer Services</td>\n",
       "      <td>Services-Misc. Amusement &amp; Recreation</td>\n",
       "      <td>http://www.nasdaq.com/symbol/wbai</td>\n",
       "      <td>NaN</td>\n",
       "    </tr>\n",
       "    <tr>\n",
       "      <th>3</th>\n",
       "      <td>WUBA</td>\n",
       "      <td>58.com Inc.</td>\n",
       "      <td>31.93</td>\n",
       "      <td>$4.62B</td>\n",
       "      <td>2013.0</td>\n",
       "      <td>Technology</td>\n",
       "      <td>Computer Software: Programming, Data Processing</td>\n",
       "      <td>http://www.nasdaq.com/symbol/wuba</td>\n",
       "      <td>NaN</td>\n",
       "    </tr>\n",
       "    <tr>\n",
       "      <th>4</th>\n",
       "      <td>AHC</td>\n",
       "      <td>A.H. Belo Corporation</td>\n",
       "      <td>6.20</td>\n",
       "      <td>$134.39M</td>\n",
       "      <td>NaN</td>\n",
       "      <td>Consumer Services</td>\n",
       "      <td>Newspapers/Magazines</td>\n",
       "      <td>http://www.nasdaq.com/symbol/ahc</td>\n",
       "      <td>NaN</td>\n",
       "    </tr>\n",
       "  </tbody>\n",
       "</table>\n",
       "</div>"
      ],
      "text/plain": [
       "  Symbol                    Name  LastSale MarketCap  IPOyear  \\\n",
       "0    DDD  3D Systems Corporation     14.30    $1.61B      NaN   \n",
       "1    MMM              3M Company    172.91     $104B      NaN   \n",
       "2   WBAI         500.com Limited     13.47  $558.98M   2013.0   \n",
       "3   WUBA             58.com Inc.     31.93    $4.62B   2013.0   \n",
       "4    AHC   A.H. Belo Corporation      6.20  $134.39M      NaN   \n",
       "\n",
       "              Sector                                         industry  \\\n",
       "0         Technology          Computer Software: Prepackaged Software   \n",
       "1        Health Care                       Medical/Dental Instruments   \n",
       "2  Consumer Services            Services-Misc. Amusement & Recreation   \n",
       "3         Technology  Computer Software: Programming, Data Processing   \n",
       "4  Consumer Services                             Newspapers/Magazines   \n",
       "\n",
       "                       Summary Quote  Unnamed: 8  \n",
       "0   http://www.nasdaq.com/symbol/ddd         NaN  \n",
       "1   http://www.nasdaq.com/symbol/mmm         NaN  \n",
       "2  http://www.nasdaq.com/symbol/wbai         NaN  \n",
       "3  http://www.nasdaq.com/symbol/wuba         NaN  \n",
       "4   http://www.nasdaq.com/symbol/ahc         NaN  "
      ]
     },
     "execution_count": 128,
     "metadata": {},
     "output_type": "execute_result"
    }
   ],
   "source": [
    "nyse.head()"
   ]
  },
  {
   "cell_type": "code",
   "execution_count": 129,
   "metadata": {},
   "outputs": [
    {
     "name": "stdout",
     "output_type": "stream",
     "text": [
      "<class 'pandas.core.frame.DataFrame'>\n",
      "RangeIndex: 3171 entries, 0 to 3170\n",
      "Data columns (total 9 columns):\n",
      "Symbol           3171 non-null object\n",
      "Name             3171 non-null object\n",
      "LastSale         3101 non-null float64\n",
      "MarketCap        2495 non-null object\n",
      "IPOyear          1360 non-null float64\n",
      "Sector           2197 non-null object\n",
      "industry         2197 non-null object\n",
      "Summary Quote    3171 non-null object\n",
      "Unnamed: 8       0 non-null float64\n",
      "dtypes: float64(3), object(6)\n",
      "memory usage: 223.0+ KB\n"
     ]
    }
   ],
   "source": [
    "nyse.info()"
   ]
  },
  {
   "cell_type": "code",
   "execution_count": 131,
   "metadata": {},
   "outputs": [
    {
     "data": {
      "text/plain": [
       "(3171, 9)"
      ]
     },
     "execution_count": 131,
     "metadata": {},
     "output_type": "execute_result"
    }
   ],
   "source": [
    "nyse.shape"
   ]
  },
  {
   "cell_type": "code",
   "execution_count": 132,
   "metadata": {},
   "outputs": [
    {
     "data": {
      "text/html": [
       "<div>\n",
       "<style scoped>\n",
       "    .dataframe tbody tr th:only-of-type {\n",
       "        vertical-align: middle;\n",
       "    }\n",
       "\n",
       "    .dataframe tbody tr th {\n",
       "        vertical-align: top;\n",
       "    }\n",
       "\n",
       "    .dataframe thead th {\n",
       "        text-align: right;\n",
       "    }\n",
       "</style>\n",
       "<table border=\"1\" class=\"dataframe\">\n",
       "  <thead>\n",
       "    <tr style=\"text-align: right;\">\n",
       "      <th></th>\n",
       "      <th>LastSale</th>\n",
       "      <th>IPOyear</th>\n",
       "      <th>Unnamed: 8</th>\n",
       "    </tr>\n",
       "  </thead>\n",
       "  <tbody>\n",
       "    <tr>\n",
       "      <th>count</th>\n",
       "      <td>3101.000000</td>\n",
       "      <td>1360.000000</td>\n",
       "      <td>0.0</td>\n",
       "    </tr>\n",
       "    <tr>\n",
       "      <th>mean</th>\n",
       "      <td>37.272406</td>\n",
       "      <td>2007.076471</td>\n",
       "      <td>NaN</td>\n",
       "    </tr>\n",
       "    <tr>\n",
       "      <th>std</th>\n",
       "      <td>69.478728</td>\n",
       "      <td>8.172264</td>\n",
       "      <td>NaN</td>\n",
       "    </tr>\n",
       "    <tr>\n",
       "      <th>min</th>\n",
       "      <td>0.349800</td>\n",
       "      <td>1985.000000</td>\n",
       "      <td>NaN</td>\n",
       "    </tr>\n",
       "    <tr>\n",
       "      <th>25%</th>\n",
       "      <td>13.460000</td>\n",
       "      <td>2002.750000</td>\n",
       "      <td>NaN</td>\n",
       "    </tr>\n",
       "    <tr>\n",
       "      <th>50%</th>\n",
       "      <td>23.950000</td>\n",
       "      <td>2010.000000</td>\n",
       "      <td>NaN</td>\n",
       "    </tr>\n",
       "    <tr>\n",
       "      <th>75%</th>\n",
       "      <td>39.510000</td>\n",
       "      <td>2014.000000</td>\n",
       "      <td>NaN</td>\n",
       "    </tr>\n",
       "    <tr>\n",
       "      <th>max</th>\n",
       "      <td>1547.500000</td>\n",
       "      <td>2016.000000</td>\n",
       "      <td>NaN</td>\n",
       "    </tr>\n",
       "  </tbody>\n",
       "</table>\n",
       "</div>"
      ],
      "text/plain": [
       "          LastSale      IPOyear  Unnamed: 8\n",
       "count  3101.000000  1360.000000         0.0\n",
       "mean     37.272406  2007.076471         NaN\n",
       "std      69.478728     8.172264         NaN\n",
       "min       0.349800  1985.000000         NaN\n",
       "25%      13.460000  2002.750000         NaN\n",
       "50%      23.950000  2010.000000         NaN\n",
       "75%      39.510000  2014.000000         NaN\n",
       "max    1547.500000  2016.000000         NaN"
      ]
     },
     "execution_count": 132,
     "metadata": {},
     "output_type": "execute_result"
    }
   ],
   "source": [
    "nyse.describe()"
   ]
  },
  {
   "cell_type": "code",
   "execution_count": 152,
   "metadata": {},
   "outputs": [
    {
     "data": {
      "text/plain": [
       "Index(['Symbol', 'Name', 'LastSale', 'MarketCap', 'IPOyear', 'Sector',\n",
       "       'industry', 'Summary Quote', 'Unnamed: 8'],\n",
       "      dtype='object')"
      ]
     },
     "execution_count": 152,
     "metadata": {},
     "output_type": "execute_result"
    }
   ],
   "source": [
    "nyse.columns"
   ]
  },
  {
   "cell_type": "code",
   "execution_count": 133,
   "metadata": {},
   "outputs": [],
   "source": [
    "from sklearn.datasets import make_regression"
   ]
  },
  {
   "cell_type": "code",
   "execution_count": 134,
   "metadata": {},
   "outputs": [],
   "source": [
    "nysedf = make_regression(n_features=3)"
   ]
  },
  {
   "cell_type": "code",
   "execution_count": 135,
   "metadata": {},
   "outputs": [],
   "source": [
    "X = nysedf[0][:, 0]\n",
    "y = nysedf[0][:, 2]"
   ]
  },
  {
   "cell_type": "code",
   "execution_count": 136,
   "metadata": {},
   "outputs": [
    {
     "data": {
      "text/plain": [
       "<matplotlib.collections.PathCollection at 0x22c39627c18>"
      ]
     },
     "execution_count": 136,
     "metadata": {},
     "output_type": "execute_result"
    },
    {
     "data": {
      "image/png": "[encoded data removed]",
      "text/plain": [
       "<Figure size 432x288 with 1 Axes>"
      ]
     },
     "metadata": {},
     "output_type": "display_data"
    }
   ],
   "source": [
    "plt.scatter(X, y)"
   ]
  },
  {
   "cell_type": "code",
   "execution_count": 137,
   "metadata": {},
   "outputs": [
    {
     "data": {
      "text/plain": [
       "array([ 0.39525572, -2.1465466 , -0.18285765,  1.42608974,  0.74897965])"
      ]
     },
     "execution_count": 137,
     "metadata": {},
     "output_type": "execute_result"
    }
   ],
   "source": [
    "nysedf[0][:5,0]"
   ]
  },
  {
   "cell_type": "code",
   "execution_count": 138,
   "metadata": {},
   "outputs": [
    {
     "data": {
      "text/plain": [
       "array([ 0.67835163,  0.47192947, -0.34705669,  0.52421493,  0.96373484])"
      ]
     },
     "execution_count": 138,
     "metadata": {},
     "output_type": "execute_result"
    }
   ],
   "source": [
    "nysedf[0][:5, 2]"
   ]
  },
  {
   "cell_type": "code",
   "execution_count": 139,
   "metadata": {},
   "outputs": [],
   "source": [
    "from sklearn.linear_model import LinearRegression "
   ]
  },
  {
   "cell_type": "code",
   "execution_count": 141,
   "metadata": {},
   "outputs": [],
   "source": [
    "lr = LinearRegression()"
   ]
  },
  {
   "cell_type": "code",
   "execution_count": 142,
   "metadata": {},
   "outputs": [
    {
     "data": {
      "text/plain": [
       "LinearRegression(copy_X=True, fit_intercept=True, n_jobs=1, normalize=False)"
      ]
     },
     "execution_count": 142,
     "metadata": {},
     "output_type": "execute_result"
    }
   ],
   "source": [
    "lr.fit(X.reshape (-1,1), y)"
   ]
  },
  {
   "cell_type": "code",
   "execution_count": 143,
   "metadata": {},
   "outputs": [],
   "source": [
    "y_pred = lr.predict(X.reshape(-1,1))"
   ]
  },
  {
   "cell_type": "code",
   "execution_count": 144,
   "metadata": {},
   "outputs": [
    {
     "data": {
      "text/plain": [
       "0.03621209022686093"
      ]
     },
     "execution_count": 144,
     "metadata": {},
     "output_type": "execute_result"
    }
   ],
   "source": [
    "lr.intercept_"
   ]
  },
  {
   "cell_type": "code",
   "execution_count": 145,
   "metadata": {},
   "outputs": [
    {
     "data": {
      "text/plain": [
       "array([0.0996076])"
      ]
     },
     "execution_count": 145,
     "metadata": {},
     "output_type": "execute_result"
    }
   ],
   "source": [
    "lr.coef_"
   ]
  },
  {
   "cell_type": "code",
   "execution_count": 146,
   "metadata": {},
   "outputs": [
    {
     "data": {
      "text/plain": [
       "<bound method LinearRegression.fit of LinearRegression(copy_X=True, fit_intercept=True, n_jobs=1, normalize=False)>"
      ]
     },
     "execution_count": 146,
     "metadata": {},
     "output_type": "execute_result"
    }
   ],
   "source": [
    "lr.fit"
   ]
  },
  {
   "cell_type": "code",
   "execution_count": 147,
   "metadata": {},
   "outputs": [],
   "source": [
    "diffs = y - y_pred"
   ]
  },
  {
   "cell_type": "code",
   "execution_count": 148,
   "metadata": {},
   "outputs": [
    {
     "data": {
      "text/plain": [
       "-4.440892098500626e-18"
      ]
     },
     "execution_count": 148,
     "metadata": {},
     "output_type": "execute_result"
    }
   ],
   "source": [
    "np.mean(diffs)"
   ]
  },
  {
   "cell_type": "code",
   "execution_count": 149,
   "metadata": {},
   "outputs": [
    {
     "data": {
      "text/plain": [
       "(array([ 3.,  5., 11., 12., 20., 13., 16., 10.,  5.,  5.]),\n",
       " array([-2.03186739, -1.63067518, -1.22948298, -0.82829078, -0.42709858,\n",
       "        -0.02590638,  0.37528582,  0.77647802,  1.17767022,  1.57886242,\n",
       "         1.98005462]),\n",
       " <a list of 10 Patch objects>)"
      ]
     },
     "execution_count": 149,
     "metadata": {},
     "output_type": "execute_result"
    },
    {
     "data": {
      "image/png": "[encoded data removed]",
      "text/plain": [
       "<Figure size 432x288 with 1 Axes>"
      ]
     },
     "metadata": {},
     "output_type": "display_data"
    }
   ],
   "source": [
    "plt.hist(diffs)"
   ]
  },
  {
   "cell_type": "code",
   "execution_count": 150,
   "metadata": {},
   "outputs": [
    {
     "data": {
      "text/plain": [
       "[<matplotlib.lines.Line2D at 0x22c3935ed30>]"
      ]
     },
     "execution_count": 150,
     "metadata": {},
     "output_type": "execute_result"
    },
    {
     "data": {
      "image/png": "[encoded data removed]",
      "text/plain": [
       "<Figure size 432x288 with 1 Axes>"
      ]
     },
     "metadata": {},
     "output_type": "display_data"
    }
   ],
   "source": [
    "plt.scatter(X, y)\n",
    "plt.plot(X,y_pred)"
   ]
  },
  {
   "cell_type": "code",
   "execution_count": 151,
   "metadata": {},
   "outputs": [
    {
     "data": {
      "text/plain": [
       "-4.440892098500626e-18"
      ]
     },
     "execution_count": 151,
     "metadata": {},
     "output_type": "execute_result"
    }
   ],
   "source": [
    "np.mean(diffs)"
   ]
  },
  {
   "cell_type": "code",
   "execution_count": 153,
   "metadata": {},
   "outputs": [],
   "source": [
    "import seaborn as sns "
   ]
  },
  {
   "cell_type": "code",
   "execution_count": 163,
   "metadata": {},
   "outputs": [],
   "source": [
    "from sklearn.metrics import mean_squared_error"
   ]
  },
  {
   "cell_type": "code",
   "execution_count": 164,
   "metadata": {},
   "outputs": [],
   "source": [
    "mse = mean_squared_error(y_pred, y)\n",
    "rmse = np.sqrt(mse)"
   ]
  },
  {
   "cell_type": "code",
   "execution_count": 165,
   "metadata": {},
   "outputs": [
    {
     "name": "stdout",
     "output_type": "stream",
     "text": [
      "The mean squared error is : 0.773347 /nThe RMSE is :0.88\n"
     ]
    }
   ],
   "source": [
    "print(\"The mean squared error is :{: 2f}\".format(mse), \"/nThe RMSE is :{:.2f}\".format(rmse))"
   ]
  },
  {
   "cell_type": "code",
   "execution_count": null,
   "metadata": {},
   "outputs": [],
   "source": []
  }
 ],
 "metadata": {
  "kernelspec": {
   "display_name": "Python 3",
   "language": "python",
   "name": "python3"
  },
  "language_info": {
   "codemirror_mode": {
    "name": "ipython",
    "version": 3
   },
   "file_extension": ".py",
   "mimetype": "text/x-python",
   "name": "python",
   "nbconvert_exporter": "python",
   "pygments_lexer": "ipython3",
   "version": "3.6.5"
  }
 },
 "nbformat": 4,
 "nbformat_minor": 2
}
